{
  "cells": [
    {
      "cell_type": "markdown",
      "metadata": {
        "id": "Gb7qyhNL1yWt"
      },
      "source": [
        "# Retrain EfficientDet-Lite0 Model for the \"Modelrailway-Cam\""
      ]
    },
    {
      "cell_type": "markdown",
      "metadata": {
        "id": "sr3q-gvm3cI8"
      },
      "source": [
        "In this jupyter-notebook, we'll retrain an EfficientDet-Lite object detection model (derived from [EfficientDet](https://ai.googleblog.com/2020/04/efficientdet-towards-scalable-and.html)) using the [TensorFlow Lite Model Maker library](https://www.tensorflow.org/lite/guide/model_maker), and then compile it to run on the [Coral Edge TPU](https://www.coral.ai/products/). All in about 10 minutes on a GPU. Please change runtime type (Laufzeittyp) to \"GPU\" in the menue.\n",
        "\n",
        "This notebook retrains the model using images of a modelrailway showing locomotives and waggons. It is an adapted version of the original notebook: [Train a salad detector with TFLite Model Maker - Colaboratory (google.com)](https://colab.research.google.com/github/googlecodelabs/odml-pathways/blob/main/object-detection/codelab2/python/Train_a_salad_detector_with_TFLite_Model_Maker.ipynb)\n",
        "\n",
        "Author: Detlef Heinze   Version: 1.1 "
      ]
    },
    {
      "cell_type": "markdown",
      "source": [
        "# Caution. \n",
        "Before running any cell of this jupyter notebook please\n",
        "- press CTRL-SHIFT-P: selecet \"Connect Runtime\" (Mit einer Laufzeit verbinden)\n",
        "- press CTRL-SHIF-P:  select \"Use fallback runtime\" (Fallback-Laufzeit verwenden)\n"
      ],
      "metadata": {
        "id": "pdcy9EJ6Fsny"
      }
    },
    {
      "cell_type": "code",
      "source": [
        "#@title\n",
        "# -*- coding: utf-8 -*-"
      ],
      "metadata": {
        "id": "IgYinplOpkKK"
      },
      "execution_count": 1,
      "outputs": []
    },
    {
      "cell_type": "code",
      "source": [
        "#Use your google drive for this notebook. Follow messages on scren.\n",
        "from google.colab import drive\n",
        "drive.mount('/content/drive')"
      ],
      "metadata": {
        "id": "s80ycacXldoa",
        "colab": {
          "base_uri": "https://localhost:8080/"
        },
        "outputId": "25bd030e-9eca-4d41-b4fc-47f0a8ea338a"
      },
      "execution_count": 2,
      "outputs": [
        {
          "output_type": "stream",
          "name": "stdout",
          "text": [
            "Mounted at /content/drive\n"
          ]
        }
      ]
    },
    {
      "cell_type": "markdown",
      "metadata": {
        "id": "PzoNZRp4sVxK"
      },
      "source": [
        "The training data used must be present in the path /content/drive/MyDrive/TrainData\n"
      ]
    },
    {
      "cell_type": "markdown",
      "metadata": {
        "id": "2vvAObmTqglq"
      },
      "source": [
        "## Import the required packages"
      ]
    },
    {
      "cell_type": "code",
      "execution_count": 3,
      "metadata": {
        "id": "qhl8lqVamEty",
        "colab": {
          "base_uri": "https://localhost:8080/"
        },
        "outputId": "ced21158-9c02-4d2c-f47f-805dda162dee"
      },
      "outputs": [
        {
          "output_type": "stream",
          "name": "stdout",
          "text": [
            "Reading package lists... Done\n",
            "Building dependency tree       \n",
            "Reading state information... Done\n",
            "The following NEW packages will be installed:\n",
            "  libportaudio2\n",
            "0 upgraded, 1 newly installed, 0 to remove and 24 not upgraded.\n",
            "Need to get 65.4 kB of archives.\n",
            "After this operation, 223 kB of additional disk space will be used.\n",
            "Get:1 http://archive.ubuntu.com/ubuntu focal/universe amd64 libportaudio2 amd64 19.6.0-1build1 [65.4 kB]\n",
            "Fetched 65.4 kB in 1s (63.6 kB/s)\n",
            "debconf: unable to initialize frontend: Dialog\n",
            "debconf: (No usable dialog-like program is installed, so the dialog based frontend cannot be used. at /usr/share/perl5/Debconf/FrontEnd/Dialog.pm line 76, <> line 1.)\n",
            "debconf: falling back to frontend: Readline\n",
            "debconf: unable to initialize frontend: Readline\n",
            "debconf: (This frontend requires a controlling tty.)\n",
            "debconf: falling back to frontend: Teletype\n",
            "dpkg-preconfigure: unable to re-open stdin: \n",
            "Selecting previously unselected package libportaudio2:amd64.\n",
            "(Reading database ... 122400 files and directories currently installed.)\n",
            "Preparing to unpack .../libportaudio2_19.6.0-1build1_amd64.deb ...\n",
            "Unpacking libportaudio2:amd64 (19.6.0-1build1) ...\n",
            "Setting up libportaudio2:amd64 (19.6.0-1build1) ...\n",
            "Processing triggers for libc-bin (2.31-0ubuntu9.9) ...\n",
            "\u001b[2K     \u001b[90m━━━━━━━━━━━━━━━━━━━━━━━━━━━━━━━━━━━━━━\u001b[0m \u001b[32m577.3/577.3 kB\u001b[0m \u001b[31m40.1 MB/s\u001b[0m eta \u001b[36m0:00:00\u001b[0m\n",
            "\u001b[2K     \u001b[90m━━━━━━━━━━━━━━━━━━━━━━━━━━━━━━━━━━━━━━\u001b[0m \u001b[32m108.8/108.8 kB\u001b[0m \u001b[31m15.4 MB/s\u001b[0m eta \u001b[36m0:00:00\u001b[0m\n",
            "\u001b[2K     \u001b[90m━━━━━━━━━━━━━━━━━━━━━━━━━━━━━━━━━━━━━━━━\u001b[0m \u001b[32m1.3/1.3 MB\u001b[0m \u001b[31m74.0 MB/s\u001b[0m eta \u001b[36m0:00:00\u001b[0m\n",
            "\u001b[2K     \u001b[90m━━━━━━━━━━━━━━━━━━━━━━━━━━━━━━━━━━━━━━━━\u001b[0m \u001b[32m77.5/77.5 kB\u001b[0m \u001b[31m10.9 MB/s\u001b[0m eta \u001b[36m0:00:00\u001b[0m\n",
            "\u001b[2K     \u001b[90m━━━━━━━━━━━━━━━━━━━━━━━━━━━━━━━━━━━━━━━━\u001b[0m \u001b[32m10.9/10.9 MB\u001b[0m \u001b[31m86.1 MB/s\u001b[0m eta \u001b[36m0:00:00\u001b[0m\n",
            "\u001b[2K     \u001b[90m━━━━━━━━━━━━━━━━━━━━━━━━━━━━━━━━━━━━━━\u001b[0m \u001b[32m203.8/203.8 kB\u001b[0m \u001b[31m27.6 MB/s\u001b[0m eta \u001b[36m0:00:00\u001b[0m\n",
            "\u001b[2K     \u001b[90m━━━━━━━━━━━━━━━━━━━━━━━━━━━━━━━━━━━━━━\u001b[0m \u001b[32m840.9/840.9 kB\u001b[0m \u001b[31m58.4 MB/s\u001b[0m eta \u001b[36m0:00:00\u001b[0m\n",
            "\u001b[2K     \u001b[90m━━━━━━━━━━━━━━━━━━━━━━━━━━━━━━━━━━━━━━\u001b[0m \u001b[32m128.0/128.0 kB\u001b[0m \u001b[31m18.4 MB/s\u001b[0m eta \u001b[36m0:00:00\u001b[0m\n",
            "\u001b[2K     \u001b[90m━━━━━━━━━━━━━━━━━━━━━━━━━━━━━━━━━━━━━━━━\u001b[0m \u001b[32m88.3/88.3 kB\u001b[0m \u001b[31m12.8 MB/s\u001b[0m eta \u001b[36m0:00:00\u001b[0m\n",
            "\u001b[?25h  Preparing metadata (setup.py) ... \u001b[?25l\u001b[?25hdone\n",
            "\u001b[2K     \u001b[90m━━━━━━━━━━━━━━━━━━━━━━━━━━━━━━━━━━━━━━━\u001b[0m \u001b[32m10.3/10.3 MB\u001b[0m \u001b[31m117.5 MB/s\u001b[0m eta \u001b[36m0:00:00\u001b[0m\n",
            "\u001b[2K     \u001b[90m━━━━━━━━━━━━━━━━━━━━━━━━━━━━━━━━━━━━━━━━\u001b[0m \u001b[32m60.9/60.9 MB\u001b[0m \u001b[31m12.3 MB/s\u001b[0m eta \u001b[36m0:00:00\u001b[0m\n",
            "\u001b[2K     \u001b[90m━━━━━━━━━━━━━━━━━━━━━━━━━━━━━━━━━━━━━━\u001b[0m \u001b[32m241.2/241.2 kB\u001b[0m \u001b[31m27.2 MB/s\u001b[0m eta \u001b[36m0:00:00\u001b[0m\n",
            "\u001b[2K     \u001b[90m━━━━━━━━━━━━━━━━━━━━━━━━━━━━━━━━━━━━━━\u001b[0m \u001b[32m128.6/128.6 kB\u001b[0m \u001b[31m15.6 MB/s\u001b[0m eta \u001b[36m0:00:00\u001b[0m\n",
            "\u001b[2K     \u001b[90m━━━━━━━━━━━━━━━━━━━━━━━━━━━━━━━━━━━━━━━━\u001b[0m \u001b[32m3.4/3.4 MB\u001b[0m \u001b[31m96.1 MB/s\u001b[0m eta \u001b[36m0:00:00\u001b[0m\n",
            "\u001b[2K     \u001b[90m━━━━━━━━━━━━━━━━━━━━━━━━━━━━━━━━━━━━━━\u001b[0m \u001b[32m591.0/591.0 kB\u001b[0m \u001b[31m57.3 MB/s\u001b[0m eta \u001b[36m0:00:00\u001b[0m\n",
            "\u001b[2K     \u001b[90m━━━━━━━━━━━━━━━━━━━━━━━━━━━━━━━━━━━━━━━━\u001b[0m \u001b[32m40.9/40.9 kB\u001b[0m \u001b[31m5.6 MB/s\u001b[0m eta \u001b[36m0:00:00\u001b[0m\n",
            "\u001b[2K     \u001b[90m━━━━━━━━━━━━━━━━━━━━━━━━━━━━━━━━━━━━━━━━\u001b[0m \u001b[32m3.1/3.1 MB\u001b[0m \u001b[31m116.0 MB/s\u001b[0m eta \u001b[36m0:00:00\u001b[0m\n",
            "\u001b[2K     \u001b[90m━━━━━━━━━━━━━━━━━━━━━━━━━━━━━━━━━━━━━━\u001b[0m \u001b[32m222.3/222.3 kB\u001b[0m \u001b[31m26.2 MB/s\u001b[0m eta \u001b[36m0:00:00\u001b[0m\n",
            "\u001b[2K     \u001b[90m━━━━━━━━━━━━━━━━━━━━━━━━━━━━━━━━━━━━━━━━\u001b[0m \u001b[32m25.3/25.3 MB\u001b[0m \u001b[31m52.6 MB/s\u001b[0m eta \u001b[36m0:00:00\u001b[0m\n",
            "\u001b[?25h  Building wheel for fire (setup.py) ... \u001b[?25l\u001b[?25hdone\n",
            "\u001b[31mERROR: pip's legacy dependency resolver does not consider dependency conflicts when selecting packages. This behaviour is the source of the following dependency conflicts.\n",
            "xarray 2022.12.0 requires packaging>=21.3, but you'll have packaging 20.9 which is incompatible.\n",
            "statsmodels 0.13.5 requires packaging>=21.3, but you'll have packaging 20.9 which is incompatible.\n",
            "plotnine 0.10.1 requires matplotlib>=3.5.0, but you'll have matplotlib 3.4.3 which is incompatible.\n",
            "mizani 0.8.1 requires matplotlib>=3.5.0, but you'll have matplotlib 3.4.3 which is incompatible.\n",
            "scann 1.2.6 requires tensorflow~=2.8.0, but you'll have tensorflow 2.12.0 which is incompatible.\n",
            "tensorflow-model-optimization 0.7.5 requires numpy~=1.23, but you'll have numpy 1.22.4 which is incompatible.\u001b[0m\u001b[31m\n",
            "\u001b[0m\u001b[31mERROR: Could not find a version that satisfies the requirement opencv-python-headless==4.1.2.30 (from versions: 3.4.10.37, 3.4.11.39, 3.4.11.41, 3.4.11.43, 3.4.11.45, 3.4.13.47, 3.4.14.51, 3.4.14.53, 3.4.15.55, 3.4.16.59, 3.4.17.61, 3.4.17.63, 3.4.18.65, 4.3.0.38, 4.4.0.40, 4.4.0.42, 4.4.0.44, 4.4.0.46, 4.5.1.48, 4.5.2.52, 4.5.2.54, 4.5.3.56, 4.5.4.58, 4.5.4.60, 4.5.5.62, 4.5.5.64, 4.6.0.66, 4.7.0.68, 4.7.0.72)\u001b[0m\u001b[31m\n",
            "\u001b[0m\u001b[31mERROR: No matching distribution found for opencv-python-headless==4.1.2.30\u001b[0m\u001b[31m\n",
            "\u001b[0mFound existing installation: tensorflow 2.12.0\n",
            "Uninstalling tensorflow-2.12.0:\n",
            "  Successfully uninstalled tensorflow-2.12.0\n",
            "\u001b[2K     \u001b[90m━━━━━━━━━━━━━━━━━━━━━━━━━━━━━━━━━━━━━━━\u001b[0m \u001b[32m497.6/497.6 MB\u001b[0m \u001b[31m3.3 MB/s\u001b[0m eta \u001b[36m0:00:00\u001b[0m\n",
            "\u001b[2K     \u001b[90m━━━━━━━━━━━━━━━━━━━━━━━━━━━━━━━━━━━━━━━━\u001b[0m \u001b[32m5.8/5.8 MB\u001b[0m \u001b[31m110.4 MB/s\u001b[0m eta \u001b[36m0:00:00\u001b[0m\n",
            "\u001b[2K     \u001b[90m━━━━━━━━━━━━━━━━━━━━━━━━━━━━━━━━━━━━━━\u001b[0m \u001b[32m462.5/462.5 kB\u001b[0m \u001b[31m44.4 MB/s\u001b[0m eta \u001b[36m0:00:00\u001b[0m\n",
            "\u001b[2K     \u001b[90m━━━━━━━━━━━━━━━━━━━━━━━━━━━━━━━━━━━━━━━━\u001b[0m \u001b[32m42.6/42.6 kB\u001b[0m \u001b[31m4.9 MB/s\u001b[0m eta \u001b[36m0:00:00\u001b[0m\n",
            "\u001b[2K     \u001b[90m━━━━━━━━━━━━━━━━━━━━━━━━━━━━━━━━━━━━━━━━\u001b[0m \u001b[32m1.4/1.4 MB\u001b[0m \u001b[31m56.8 MB/s\u001b[0m eta \u001b[36m0:00:00\u001b[0m\n",
            "\u001b[2K     \u001b[90m━━━━━━━━━━━━━━━━━━━━━━━━━━━━━━━━━━━━━━━━\u001b[0m \u001b[32m4.9/4.9 MB\u001b[0m \u001b[31m81.1 MB/s\u001b[0m eta \u001b[36m0:00:00\u001b[0m\n",
            "\u001b[?25h"
          ]
        }
      ],
      "source": [
        "!sudo apt -y install libportaudio2\n",
        "!pip install -q --use-deprecated=legacy-resolver tflite-model-maker\n",
        "!pip install -q pycocotools\n",
        "!pip install -q opencv-python-headless==4.1.2.30\n",
        "!pip uninstall -y tensorflow && pip install -q tensorflow==2.8.0\n"
      ]
    },
    {
      "cell_type": "code",
      "execution_count": 4,
      "metadata": {
        "id": "XtxiUeZEiXpt",
        "outputId": "e5f697be-480d-4406-cce8-0b4de7c9b2dd",
        "colab": {
          "base_uri": "https://localhost:8080/"
        }
      },
      "outputs": [
        {
          "output_type": "stream",
          "name": "stderr",
          "text": [
            "/usr/local/lib/python3.9/dist-packages/tensorflow_addons/utils/tfa_eol_msg.py:23: UserWarning: \n",
            "\n",
            "TensorFlow Addons (TFA) has ended development and introduction of new features.\n",
            "TFA has entered a minimal maintenance and release mode until a planned end of life in May 2024.\n",
            "Please modify downstream libraries to take dependencies from other repositories in our TensorFlow community (e.g. Keras, Keras-CV, and Keras-NLP). \n",
            "\n",
            "For more information see: https://github.com/tensorflow/addons/issues/2807 \n",
            "\n",
            "  warnings.warn(\n",
            "/usr/local/lib/python3.9/dist-packages/tensorflow_addons/utils/ensure_tf_install.py:53: UserWarning: Tensorflow Addons supports using Python ops for all Tensorflow versions above or equal to 2.10.0 and strictly below 2.13.0 (nightly versions are not supported). \n",
            " The versions of TensorFlow you are currently using is 2.8.0 and is not supported. \n",
            "Some things might work, some things might not.\n",
            "If you were to encounter a bug, do not file an issue.\n",
            "If you want to make sure you're using a tested and supported configuration, either change the TensorFlow version or the TensorFlow Addons's version. \n",
            "You can find the compatibility matrix in TensorFlow Addon's readme:\n",
            "https://github.com/tensorflow/addons\n",
            "  warnings.warn(\n"
          ]
        }
      ],
      "source": [
        "import numpy as np\n",
        "import os\n",
        "\n",
        "from tflite_model_maker.config import QuantizationConfig\n",
        "from tflite_model_maker.config import ExportFormat\n",
        "from tflite_model_maker import model_spec\n",
        "from tflite_model_maker import object_detector\n",
        "\n",
        "import tensorflow as tf\n",
        "assert tf.__version__.startswith('2')\n",
        "\n",
        "tf.get_logger().setLevel('ERROR')\n",
        "from absl import logging\n",
        "logging.set_verbosity(logging.ERROR)"
      ]
    },
    {
      "cell_type": "markdown",
      "metadata": {
        "id": "H0XM-oIfhgQ7"
      },
      "source": [
        "## Load the training data\n"
      ]
    },
    {
      "cell_type": "markdown",
      "metadata": {
        "id": "-9VoZ_Rud2V3"
      },
      "source": [
        "### Load the training data set by using training.csv"
      ]
    },
    {
      "cell_type": "markdown",
      "metadata": {
        "id": "BRd13bfetO7B"
      },
      "source": [
        "\n",
        "\n",
        "Model Maker requires that we load our dataset using the [`DataLoader`](https://www.tensorflow.org/lite/api_docs/python/tflite_model_maker/object_detector/DataLoader) API. So in this case, we'll load it from a CSV file that defines the images for training, images for validation, and images for testing. At the start change directory  to the Data directory.\n",
        "\n",
        "\n"
      ]
    },
    {
      "cell_type": "code",
      "execution_count": 5,
      "metadata": {
        "id": "04ObtdneqvP5",
        "colab": {
          "base_uri": "https://localhost:8080/"
        },
        "outputId": "61aa3c52-1785-4c4f-921c-6807659285c5"
      },
      "outputs": [
        {
          "output_type": "stream",
          "name": "stdout",
          "text": [
            "/content/drive/MyDrive/TrainData\n"
          ]
        }
      ],
      "source": [
        "#Load the CSV file from your Google Drive.\n",
        "%cd drive/MyDrive/TrainData\n",
        "train_data, validation_data, test_data = object_detector.DataLoader.from_csv('training.csv')"
      ]
    },
    {
      "cell_type": "markdown",
      "metadata": {
        "id": "S8clx0KPutCM"
      },
      "source": [
        "## Select the model spec"
      ]
    },
    {
      "cell_type": "markdown",
      "metadata": {
        "id": "vn61LJ9QbOPi"
      },
      "source": [
        "Model Maker supports the EfficientDet-Lite family of object detection models that are compatible with the Edge TPU. (EfficientDet-Lite is derived from [EfficientDet](https://ai.googleblog.com/2020/04/efficientdet-towards-scalable-and.html), which offers state-of-the-art accuracy in a small model size). There are several model sizes you can choose from:\n",
        "\n",
        "|| Model architecture | Size(MB)* | Latency(ms)** | Average Precision*** |\n",
        "|-|--------------------|-----------|---------------|----------------------|\n",
        "|| EfficientDet-Lite0 | 5.7       | 37.4            | 30.4%               |\n",
        "|| EfficientDet-Lite1 | 7.6       | 56.3            | 34.3%               |\n",
        "|| EfficientDet-Lite2 | 10.2      | 104.6           | 36.0%               |\n",
        "|| EfficientDet-Lite3 | 14.4      | 107.6           | 39.4%               |\n",
        "| <td colspan=4><br><i>* File size of the compiled Edge TPU models. <br/>** Latency measured on a desktop CPU with a Coral USB Accelerator. <br/>*** Average Precision is the mAP (mean Average Precision) on the COCO 2017 validation dataset.</i></td> |\n",
        "\n",
        "Beware that the Lite2 and Lite3 models do not fit onto the Edge TPU's onboard memory, so you'll see even greater latency when using those, due to the cost of fetching data from the host system memory. Maybe this extra latency is okay for your application, but if it's not and you require the precision of the larger models, then you can [pipeline the model across multiple Edge TPUs](https://coral.ai/docs/edgetpu/pipeline/) (more about this when we compile the model below).\n",
        "\n",
        "For the modelrailway-cam, we'll use Lite0:"
      ]
    },
    {
      "cell_type": "code",
      "execution_count": 6,
      "metadata": {
        "id": "SM9gePHw9Jv1"
      },
      "outputs": [],
      "source": [
        "spec = object_detector.EfficientDetLite0Spec()"
      ]
    },
    {
      "cell_type": "markdown",
      "metadata": {
        "id": "5qjq2UEHCLUi"
      },
      "source": [
        "## Create and train the model"
      ]
    },
    {
      "cell_type": "markdown",
      "metadata": {
        "id": "2uZkLR6N6gDR"
      },
      "source": [
        "Now we need to create our model according to the model spec, load our dataset into the model, specify training parameters, and begin training. \n",
        "\n",
        "Using Model Maker, we accomplished all of that with [`create()`](https://www.tensorflow.org/lite/api_docs/python/tflite_model_maker/object_detector/create):"
      ]
    },
    {
      "cell_type": "code",
      "execution_count": 7,
      "metadata": {
        "id": "kwlYdTcg63xy",
        "colab": {
          "base_uri": "https://localhost:8080/"
        },
        "outputId": "4f21d9e6-3ad7-454f-c520-be2680a31ad2"
      },
      "outputs": [
        {
          "output_type": "stream",
          "name": "stdout",
          "text": [
            "Epoch 1/40\n",
            "46/46 [==============================] - 57s 326ms/step - det_loss: 1.3704 - cls_loss: 0.8402 - box_loss: 0.0106 - reg_l2_loss: 0.0630 - loss: 1.4334 - learning_rate: 0.0090 - gradient_norm: 2.8197 - val_det_loss: 0.8802 - val_cls_loss: 0.4978 - val_box_loss: 0.0076 - val_reg_l2_loss: 0.0631 - val_loss: 0.9433\n",
            "Epoch 2/40\n",
            "46/46 [==============================] - 13s 276ms/step - det_loss: 0.6946 - cls_loss: 0.3535 - box_loss: 0.0068 - reg_l2_loss: 0.0631 - loss: 0.7578 - learning_rate: 0.0100 - gradient_norm: 3.0931 - val_det_loss: 0.4529 - val_cls_loss: 0.2429 - val_box_loss: 0.0042 - val_reg_l2_loss: 0.0631 - val_loss: 0.5161\n",
            "Epoch 3/40\n",
            "46/46 [==============================] - 14s 311ms/step - det_loss: 0.4727 - cls_loss: 0.2635 - box_loss: 0.0042 - reg_l2_loss: 0.0632 - loss: 0.5359 - learning_rate: 0.0099 - gradient_norm: 2.8495 - val_det_loss: 0.3162 - val_cls_loss: 0.1947 - val_box_loss: 0.0024 - val_reg_l2_loss: 0.0632 - val_loss: 0.3794\n",
            "Epoch 4/40\n",
            "46/46 [==============================] - 13s 287ms/step - det_loss: 0.4130 - cls_loss: 0.2310 - box_loss: 0.0036 - reg_l2_loss: 0.0632 - loss: 0.4762 - learning_rate: 0.0098 - gradient_norm: 2.8235 - val_det_loss: 0.2846 - val_cls_loss: 0.1778 - val_box_loss: 0.0021 - val_reg_l2_loss: 0.0632 - val_loss: 0.3478\n",
            "Epoch 5/40\n",
            "46/46 [==============================] - 20s 430ms/step - det_loss: 0.3812 - cls_loss: 0.2333 - box_loss: 0.0030 - reg_l2_loss: 0.0632 - loss: 0.4445 - learning_rate: 0.0097 - gradient_norm: 2.7940 - val_det_loss: 0.3298 - val_cls_loss: 0.1890 - val_box_loss: 0.0028 - val_reg_l2_loss: 0.0633 - val_loss: 0.3930\n",
            "Epoch 6/40\n",
            "46/46 [==============================] - 12s 263ms/step - det_loss: 0.3549 - cls_loss: 0.2010 - box_loss: 0.0031 - reg_l2_loss: 0.0633 - loss: 0.4182 - learning_rate: 0.0095 - gradient_norm: 2.4900 - val_det_loss: 0.3664 - val_cls_loss: 0.2073 - val_box_loss: 0.0032 - val_reg_l2_loss: 0.0633 - val_loss: 0.4297\n",
            "Epoch 7/40\n",
            "46/46 [==============================] - 14s 298ms/step - det_loss: 0.2993 - cls_loss: 0.1793 - box_loss: 0.0024 - reg_l2_loss: 0.0633 - loss: 0.3626 - learning_rate: 0.0093 - gradient_norm: 2.3476 - val_det_loss: 0.2254 - val_cls_loss: 0.1644 - val_box_loss: 0.0012 - val_reg_l2_loss: 0.0633 - val_loss: 0.2887\n",
            "Epoch 8/40\n",
            "46/46 [==============================] - 14s 307ms/step - det_loss: 0.2617 - cls_loss: 0.1621 - box_loss: 0.0020 - reg_l2_loss: 0.0633 - loss: 0.3250 - learning_rate: 0.0091 - gradient_norm: 2.2570 - val_det_loss: 0.1745 - val_cls_loss: 0.1209 - val_box_loss: 0.0011 - val_reg_l2_loss: 0.0633 - val_loss: 0.2378\n",
            "Epoch 9/40\n",
            "46/46 [==============================] - 13s 283ms/step - det_loss: 0.2851 - cls_loss: 0.1695 - box_loss: 0.0023 - reg_l2_loss: 0.0633 - loss: 0.3484 - learning_rate: 0.0089 - gradient_norm: 2.2406 - val_det_loss: 0.1734 - val_cls_loss: 0.1170 - val_box_loss: 0.0011 - val_reg_l2_loss: 0.0633 - val_loss: 0.2367\n",
            "Epoch 10/40\n",
            "46/46 [==============================] - 14s 312ms/step - det_loss: 0.2761 - cls_loss: 0.1653 - box_loss: 0.0022 - reg_l2_loss: 0.0633 - loss: 0.3394 - learning_rate: 0.0086 - gradient_norm: 2.4321 - val_det_loss: 0.2175 - val_cls_loss: 0.1258 - val_box_loss: 0.0018 - val_reg_l2_loss: 0.0633 - val_loss: 0.2808\n",
            "Epoch 11/40\n",
            "46/46 [==============================] - 13s 293ms/step - det_loss: 0.2283 - cls_loss: 0.1391 - box_loss: 0.0018 - reg_l2_loss: 0.0634 - loss: 0.2916 - learning_rate: 0.0083 - gradient_norm: 2.1345 - val_det_loss: 0.2919 - val_cls_loss: 0.2265 - val_box_loss: 0.0013 - val_reg_l2_loss: 0.0634 - val_loss: 0.3553\n",
            "Epoch 12/40\n",
            "46/46 [==============================] - 14s 298ms/step - det_loss: 0.2416 - cls_loss: 0.1458 - box_loss: 0.0019 - reg_l2_loss: 0.0634 - loss: 0.3049 - learning_rate: 0.0080 - gradient_norm: 2.0339 - val_det_loss: 0.1885 - val_cls_loss: 0.1086 - val_box_loss: 0.0016 - val_reg_l2_loss: 0.0634 - val_loss: 0.2518\n",
            "Epoch 13/40\n",
            "46/46 [==============================] - 12s 254ms/step - det_loss: 0.2181 - cls_loss: 0.1369 - box_loss: 0.0016 - reg_l2_loss: 0.0634 - loss: 0.2814 - learning_rate: 0.0077 - gradient_norm: 2.3076 - val_det_loss: 0.1589 - val_cls_loss: 0.1160 - val_box_loss: 8.5978e-04 - val_reg_l2_loss: 0.0634 - val_loss: 0.2223\n",
            "Epoch 14/40\n",
            "46/46 [==============================] - 13s 284ms/step - det_loss: 0.2337 - cls_loss: 0.1428 - box_loss: 0.0018 - reg_l2_loss: 0.0634 - loss: 0.2971 - learning_rate: 0.0073 - gradient_norm: 2.3288 - val_det_loss: 0.2052 - val_cls_loss: 0.1382 - val_box_loss: 0.0013 - val_reg_l2_loss: 0.0634 - val_loss: 0.2686\n",
            "Epoch 15/40\n",
            "46/46 [==============================] - 16s 354ms/step - det_loss: 0.2011 - cls_loss: 0.1256 - box_loss: 0.0015 - reg_l2_loss: 0.0634 - loss: 0.2645 - learning_rate: 0.0070 - gradient_norm: 1.9261 - val_det_loss: 0.1562 - val_cls_loss: 0.1078 - val_box_loss: 9.6770e-04 - val_reg_l2_loss: 0.0634 - val_loss: 0.2196\n",
            "Epoch 16/40\n",
            "46/46 [==============================] - 14s 301ms/step - det_loss: 0.2209 - cls_loss: 0.1425 - box_loss: 0.0016 - reg_l2_loss: 0.0634 - loss: 0.2843 - learning_rate: 0.0066 - gradient_norm: 2.0885 - val_det_loss: 0.1358 - val_cls_loss: 0.0954 - val_box_loss: 8.0756e-04 - val_reg_l2_loss: 0.0634 - val_loss: 0.1992\n",
            "Epoch 17/40\n",
            "46/46 [==============================] - 12s 250ms/step - det_loss: 0.1972 - cls_loss: 0.1268 - box_loss: 0.0014 - reg_l2_loss: 0.0634 - loss: 0.2606 - learning_rate: 0.0062 - gradient_norm: 1.8437 - val_det_loss: 0.1296 - val_cls_loss: 0.0889 - val_box_loss: 8.1378e-04 - val_reg_l2_loss: 0.0634 - val_loss: 0.1930\n",
            "Epoch 18/40\n",
            "46/46 [==============================] - 13s 287ms/step - det_loss: 0.1736 - cls_loss: 0.1137 - box_loss: 0.0012 - reg_l2_loss: 0.0634 - loss: 0.2370 - learning_rate: 0.0058 - gradient_norm: 1.7464 - val_det_loss: 0.1401 - val_cls_loss: 0.1016 - val_box_loss: 7.6958e-04 - val_reg_l2_loss: 0.0634 - val_loss: 0.2035\n",
            "Epoch 19/40\n",
            "46/46 [==============================] - 15s 319ms/step - det_loss: 0.1872 - cls_loss: 0.1184 - box_loss: 0.0014 - reg_l2_loss: 0.0634 - loss: 0.2506 - learning_rate: 0.0054 - gradient_norm: 1.8124 - val_det_loss: 0.1171 - val_cls_loss: 0.0863 - val_box_loss: 6.1543e-04 - val_reg_l2_loss: 0.0634 - val_loss: 0.1805\n",
            "Epoch 20/40\n",
            "46/46 [==============================] - 15s 324ms/step - det_loss: 0.1999 - cls_loss: 0.1293 - box_loss: 0.0014 - reg_l2_loss: 0.0634 - loss: 0.2633 - learning_rate: 0.0050 - gradient_norm: 1.9761 - val_det_loss: 0.1595 - val_cls_loss: 0.1149 - val_box_loss: 8.9141e-04 - val_reg_l2_loss: 0.0634 - val_loss: 0.2228\n",
            "Epoch 21/40\n",
            "46/46 [==============================] - 12s 257ms/step - det_loss: 0.1884 - cls_loss: 0.1204 - box_loss: 0.0014 - reg_l2_loss: 0.0634 - loss: 0.2517 - learning_rate: 0.0046 - gradient_norm: 1.9980 - val_det_loss: 0.1327 - val_cls_loss: 0.0933 - val_box_loss: 7.8877e-04 - val_reg_l2_loss: 0.0634 - val_loss: 0.1961\n",
            "Epoch 22/40\n",
            "46/46 [==============================] - 14s 300ms/step - det_loss: 0.1971 - cls_loss: 0.1260 - box_loss: 0.0014 - reg_l2_loss: 0.0634 - loss: 0.2605 - learning_rate: 0.0042 - gradient_norm: 1.9969 - val_det_loss: 0.1268 - val_cls_loss: 0.0917 - val_box_loss: 7.0049e-04 - val_reg_l2_loss: 0.0634 - val_loss: 0.1901\n",
            "Epoch 23/40\n",
            "46/46 [==============================] - 15s 322ms/step - det_loss: 0.1644 - cls_loss: 0.1108 - box_loss: 0.0011 - reg_l2_loss: 0.0634 - loss: 0.2278 - learning_rate: 0.0038 - gradient_norm: 1.6739 - val_det_loss: 0.1122 - val_cls_loss: 0.0888 - val_box_loss: 4.6707e-04 - val_reg_l2_loss: 0.0634 - val_loss: 0.1755\n",
            "Epoch 24/40\n",
            "46/46 [==============================] - 13s 286ms/step - det_loss: 0.1635 - cls_loss: 0.1072 - box_loss: 0.0011 - reg_l2_loss: 0.0634 - loss: 0.2269 - learning_rate: 0.0034 - gradient_norm: 1.7410 - val_det_loss: 0.1228 - val_cls_loss: 0.0906 - val_box_loss: 6.4348e-04 - val_reg_l2_loss: 0.0634 - val_loss: 0.1861\n",
            "Epoch 25/40\n",
            "46/46 [==============================] - 14s 312ms/step - det_loss: 0.1659 - cls_loss: 0.1107 - box_loss: 0.0011 - reg_l2_loss: 0.0634 - loss: 0.2293 - learning_rate: 0.0030 - gradient_norm: 1.7488 - val_det_loss: 0.1424 - val_cls_loss: 0.0942 - val_box_loss: 9.6536e-04 - val_reg_l2_loss: 0.0634 - val_loss: 0.2058\n",
            "Epoch 26/40\n",
            "46/46 [==============================] - 14s 296ms/step - det_loss: 0.1631 - cls_loss: 0.1095 - box_loss: 0.0011 - reg_l2_loss: 0.0634 - loss: 0.2264 - learning_rate: 0.0027 - gradient_norm: 1.7680 - val_det_loss: 0.1371 - val_cls_loss: 0.0939 - val_box_loss: 8.6384e-04 - val_reg_l2_loss: 0.0634 - val_loss: 0.2005\n",
            "Epoch 27/40\n",
            "46/46 [==============================] - 14s 311ms/step - det_loss: 0.1605 - cls_loss: 0.1065 - box_loss: 0.0011 - reg_l2_loss: 0.0634 - loss: 0.2238 - learning_rate: 0.0023 - gradient_norm: 1.7499 - val_det_loss: 0.1102 - val_cls_loss: 0.0788 - val_box_loss: 6.2692e-04 - val_reg_l2_loss: 0.0634 - val_loss: 0.1735\n",
            "Epoch 28/40\n",
            "46/46 [==============================] - 14s 303ms/step - det_loss: 0.1644 - cls_loss: 0.1128 - box_loss: 0.0010 - reg_l2_loss: 0.0634 - loss: 0.2277 - learning_rate: 0.0020 - gradient_norm: 1.7594 - val_det_loss: 0.1112 - val_cls_loss: 0.0817 - val_box_loss: 5.9022e-04 - val_reg_l2_loss: 0.0634 - val_loss: 0.1746\n",
            "Epoch 29/40\n",
            "46/46 [==============================] - 12s 263ms/step - det_loss: 0.1585 - cls_loss: 0.1076 - box_loss: 0.0010 - reg_l2_loss: 0.0634 - loss: 0.2219 - learning_rate: 0.0017 - gradient_norm: 1.8213 - val_det_loss: 0.1062 - val_cls_loss: 0.0793 - val_box_loss: 5.3891e-04 - val_reg_l2_loss: 0.0633 - val_loss: 0.1695\n",
            "Epoch 30/40\n",
            "46/46 [==============================] - 16s 345ms/step - det_loss: 0.1549 - cls_loss: 0.1060 - box_loss: 9.7865e-04 - reg_l2_loss: 0.0633 - loss: 0.2183 - learning_rate: 0.0014 - gradient_norm: 1.6442 - val_det_loss: 0.1022 - val_cls_loss: 0.0822 - val_box_loss: 4.0043e-04 - val_reg_l2_loss: 0.0633 - val_loss: 0.1656\n",
            "Epoch 31/40\n",
            "46/46 [==============================] - 14s 301ms/step - det_loss: 0.1458 - cls_loss: 0.0995 - box_loss: 9.2529e-04 - reg_l2_loss: 0.0633 - loss: 0.2091 - learning_rate: 0.0011 - gradient_norm: 1.5832 - val_det_loss: 0.1072 - val_cls_loss: 0.0790 - val_box_loss: 5.6415e-04 - val_reg_l2_loss: 0.0633 - val_loss: 0.1705\n",
            "Epoch 32/40\n",
            "46/46 [==============================] - 14s 299ms/step - det_loss: 0.1499 - cls_loss: 0.1016 - box_loss: 9.6647e-04 - reg_l2_loss: 0.0633 - loss: 0.2132 - learning_rate: 8.8634e-04 - gradient_norm: 1.5804 - val_det_loss: 0.1078 - val_cls_loss: 0.0823 - val_box_loss: 5.1059e-04 - val_reg_l2_loss: 0.0633 - val_loss: 0.1712\n",
            "Epoch 33/40\n",
            "46/46 [==============================] - 12s 266ms/step - det_loss: 0.1401 - cls_loss: 0.0970 - box_loss: 8.6102e-04 - reg_l2_loss: 0.0633 - loss: 0.2034 - learning_rate: 6.7118e-04 - gradient_norm: 1.5985 - val_det_loss: 0.1088 - val_cls_loss: 0.0826 - val_box_loss: 5.2521e-04 - val_reg_l2_loss: 0.0633 - val_loss: 0.1722\n",
            "Epoch 34/40\n",
            "46/46 [==============================] - 14s 297ms/step - det_loss: 0.1436 - cls_loss: 0.0986 - box_loss: 8.9904e-04 - reg_l2_loss: 0.0633 - loss: 0.2069 - learning_rate: 4.8410e-04 - gradient_norm: 1.5711 - val_det_loss: 0.1051 - val_cls_loss: 0.0811 - val_box_loss: 4.7978e-04 - val_reg_l2_loss: 0.0633 - val_loss: 0.1684\n",
            "Epoch 35/40\n",
            "46/46 [==============================] - 16s 345ms/step - det_loss: 0.1536 - cls_loss: 0.1032 - box_loss: 0.0010 - reg_l2_loss: 0.0633 - loss: 0.2169 - learning_rate: 3.2630e-04 - gradient_norm: 1.6516 - val_det_loss: 0.1035 - val_cls_loss: 0.0826 - val_box_loss: 4.1787e-04 - val_reg_l2_loss: 0.0633 - val_loss: 0.1669\n",
            "Epoch 36/40\n",
            "46/46 [==============================] - 14s 307ms/step - det_loss: 0.1369 - cls_loss: 0.0964 - box_loss: 8.1083e-04 - reg_l2_loss: 0.0633 - loss: 0.2003 - learning_rate: 1.9881e-04 - gradient_norm: 1.5484 - val_det_loss: 0.1029 - val_cls_loss: 0.0805 - val_box_loss: 4.4815e-04 - val_reg_l2_loss: 0.0633 - val_loss: 0.1663\n",
            "Epoch 37/40\n",
            "46/46 [==============================] - 12s 261ms/step - det_loss: 0.1521 - cls_loss: 0.1030 - box_loss: 9.8192e-04 - reg_l2_loss: 0.0633 - loss: 0.2155 - learning_rate: 1.0246e-04 - gradient_norm: 1.6200 - val_det_loss: 0.1030 - val_cls_loss: 0.0805 - val_box_loss: 4.4975e-04 - val_reg_l2_loss: 0.0633 - val_loss: 0.1663\n",
            "Epoch 38/40\n",
            "46/46 [==============================] - 14s 297ms/step - det_loss: 0.1508 - cls_loss: 0.1021 - box_loss: 9.7316e-04 - reg_l2_loss: 0.0633 - loss: 0.2141 - learning_rate: 3.7871e-05 - gradient_norm: 1.6112 - val_det_loss: 0.1034 - val_cls_loss: 0.0809 - val_box_loss: 4.5051e-04 - val_reg_l2_loss: 0.0633 - val_loss: 0.1667\n",
            "Epoch 39/40\n",
            "46/46 [==============================] - 14s 313ms/step - det_loss: 0.1483 - cls_loss: 0.0991 - box_loss: 9.8439e-04 - reg_l2_loss: 0.0633 - loss: 0.2116 - learning_rate: 5.4645e-06 - gradient_norm: 1.6105 - val_det_loss: 0.1029 - val_cls_loss: 0.0803 - val_box_loss: 4.5095e-04 - val_reg_l2_loss: 0.0633 - val_loss: 0.1662\n",
            "Epoch 40/40\n",
            "46/46 [==============================] - 15s 331ms/step - det_loss: 0.1494 - cls_loss: 0.1004 - box_loss: 9.8002e-04 - reg_l2_loss: 0.0633 - loss: 0.2128 - learning_rate: 5.4496e-06 - gradient_norm: 1.5514 - val_det_loss: 0.1027 - val_cls_loss: 0.0802 - val_box_loss: 4.5186e-04 - val_reg_l2_loss: 0.0633 - val_loss: 0.1661\n"
          ]
        }
      ],
      "source": [
        "model = object_detector.create(train_data=train_data, \n",
        "                               model_spec=spec, \n",
        "                               validation_data=validation_data, \n",
        "                               epochs=40, \n",
        "                               batch_size=8, \n",
        "                               train_whole_model=True)"
      ]
    },
    {
      "cell_type": "markdown",
      "metadata": {
        "id": "3n5-o3vvGfnJ"
      },
      "source": [
        "## Evaluate the model"
      ]
    },
    {
      "cell_type": "markdown",
      "metadata": {
        "id": "-BzCHLWJ6h7q"
      },
      "source": [
        "Now we'll use the test dataset to evaluate how well the model performs with data it has never seen before.\n",
        "\n",
        "The [`evaluate()`](https://www.tensorflow.org/lite/api_docs/python/tflite_model_maker/object_detector/ObjectDetector#evaluate) method provides output in the style of [COCO evaluation metrics](https://cocodataset.org/#detection-eval):"
      ]
    },
    {
      "cell_type": "code",
      "execution_count": 8,
      "metadata": {
        "id": "8xmnl6Yy7ARn",
        "colab": {
          "base_uri": "https://localhost:8080/"
        },
        "outputId": "8f36c4b0-e33c-4f81-bb11-badc78d49a90"
      },
      "outputs": [
        {
          "output_type": "stream",
          "name": "stdout",
          "text": [
            "\r1/1 [==============================] - 8s 8s/step\n",
            "\n"
          ]
        },
        {
          "output_type": "execute_result",
          "data": {
            "text/plain": [
              "{'AP': 0.85019255,\n",
              " 'AP50': 1.0,\n",
              " 'AP75': 1.0,\n",
              " 'APs': -1.0,\n",
              " 'APm': 0.8503649,\n",
              " 'APl': -1.0,\n",
              " 'ARmax1': 0.87115383,\n",
              " 'ARmax10': 0.89615387,\n",
              " 'ARmax100': 0.89807695,\n",
              " 'ARs': -1.0,\n",
              " 'ARm': 0.89807695,\n",
              " 'ARl': -1.0,\n",
              " 'AP_/:Dampflok': 0.8086603,\n",
              " 'AP_/:Diesellok': 0.89172477}"
            ]
          },
          "metadata": {},
          "execution_count": 8
        }
      ],
      "source": [
        "model.evaluate(test_data)"
      ]
    },
    {
      "cell_type": "markdown",
      "metadata": {
        "id": "PEon9xd2BDS_"
      },
      "source": [
        "Because the default batch size for [EfficientDetLite models](https://www.tensorflow.org/lite/api_docs/python/tflite_model_maker/object_detector/EfficientDetSpec) is 64, this needs only 1 step to go through all  images in the test set. You can also specify the `batch_size` argument when you call [`evaluate()`](https://www.tensorflow.org/lite/api_docs/python/tflite_model_maker/object_detector/ObjectDetector#evaluate)."
      ]
    },
    {
      "cell_type": "markdown",
      "metadata": {
        "id": "_yB_XMpqGlLs"
      },
      "source": [
        "## Export to TensorFlow Lite"
      ]
    },
    {
      "cell_type": "markdown",
      "metadata": {
        "id": "CgCDMe0e6jlT"
      },
      "source": [
        "Next, we'll export the model to the TensorFlow Lite format. By default, the [`export()`](https://www.tensorflow.org/lite/api_docs/python/tflite_model_maker/object_detector/ObjectDetector#export) method performs [full integer post-training quantization](https://www.tensorflow.org/lite/performance/post_training_quantization#full_integer_quantization), which is exactly what we need for compatibility with the Edge TPU. (Model Maker uses the same dataset we gave to our model spec as a representative dataset, which is required for full-int quantization.)\n",
        "\n",
        "We just need to specify the export directory and format. By default, it exports to TF Lite, but we also want a labels file, so we declare both:"
      ]
    },
    {
      "cell_type": "code",
      "execution_count": 9,
      "metadata": {
        "id": "2Cu9cxX5Qu-e"
      },
      "outputs": [],
      "source": [
        "TFLITE_FILENAME = 'smrc_model.tflite'\n",
        "LABELS_FILENAME = 'railwayLabels.txt'"
      ]
    },
    {
      "cell_type": "code",
      "execution_count": 10,
      "metadata": {
        "id": "rKd6qk7TbxYO"
      },
      "outputs": [],
      "source": [
        "model.export(export_dir='.', tflite_filename=TFLITE_FILENAME, label_filename=LABELS_FILENAME,\n",
        "             export_format=[ExportFormat.TFLITE, ExportFormat.LABEL])"
      ]
    },
    {
      "cell_type": "markdown",
      "metadata": {
        "id": "b94hZ-exOCRB"
      },
      "source": [
        "### Evaluate the TF Lite model"
      ]
    },
    {
      "cell_type": "markdown",
      "metadata": {
        "id": "ZQpahAIBqBPp"
      },
      "source": [
        "Exporting the model to TensorFlow Lite can affect the model accuracy, due to the reduced numerical precision from quantization and because the original TensorFlow model uses per-class [non-max supression (NMS)](https://www.coursera.org/lecture/convolutional-neural-networks/non-max-suppression-dvrjH) for post-processing, while the TF Lite model uses global NMS, which is faster but less accurate.\n",
        "\n",
        "Therefore you should always evaluate the exported TF Lite model and be sure it still meets your requirements:"
      ]
    },
    {
      "cell_type": "code",
      "execution_count": 11,
      "metadata": {
        "id": "RS3Ell_lqH4e",
        "colab": {
          "base_uri": "https://localhost:8080/"
        },
        "outputId": "7ae752de-dff8-4067-e7d2-95b8985de13a"
      },
      "outputs": [
        {
          "output_type": "stream",
          "name": "stdout",
          "text": [
            "52/52 [==============================] - 147s 3s/step\n",
            "\n"
          ]
        },
        {
          "output_type": "execute_result",
          "data": {
            "text/plain": [
              "{'AP': 0.8433829,\n",
              " 'AP50': 1.0,\n",
              " 'AP75': 1.0,\n",
              " 'APs': -1.0,\n",
              " 'APm': 0.8433829,\n",
              " 'APl': -1.0,\n",
              " 'ARmax1': 0.86923075,\n",
              " 'ARmax10': 0.86923075,\n",
              " 'ARmax100': 0.86923075,\n",
              " 'ARs': -1.0,\n",
              " 'ARm': 0.86923075,\n",
              " 'ARl': -1.0,\n",
              " 'AP_/:Dampflok': 0.79779756,\n",
              " 'AP_/:Diesellok': 0.88896817}"
            ]
          },
          "metadata": {},
          "execution_count": 11
        }
      ],
      "source": [
        "model.evaluate_tflite(TFLITE_FILENAME, test_data)"
      ]
    },
    {
      "cell_type": "markdown",
      "metadata": {
        "id": "oxgWQyYOqZha"
      },
      "source": [
        "## Compile for the Edge TPU\n"
      ]
    },
    {
      "cell_type": "markdown",
      "metadata": {
        "id": "A0QLiwCj9Pw6"
      },
      "source": [
        "First we need to download the Edge TPU Compiler:"
      ]
    },
    {
      "cell_type": "code",
      "execution_count": 12,
      "metadata": {
        "id": "Oy3QIn_YqaRP",
        "colab": {
          "base_uri": "https://localhost:8080/"
        },
        "outputId": "5d64c261-b2a8-40a1-f997-3afc529ad7c7"
      },
      "outputs": [
        {
          "output_type": "stream",
          "name": "stdout",
          "text": [
            "  % Total    % Received % Xferd  Average Speed   Time    Time     Time  Current\n",
            "                                 Dload  Upload   Total   Spent    Left  Speed\n",
            "\r  0     0    0     0    0     0      0      0 --:--:-- --:--:-- --:--:--     0\r100  2659  100  2659    0     0  91689      0 --:--:-- --:--:-- --:--:-- 91689\n",
            "OK\n",
            "deb https://packages.cloud.google.com/apt coral-edgetpu-stable main\n",
            "Get:1 https://cloud.r-project.org/bin/linux/ubuntu focal-cran40/ InRelease [3,622 B]\n",
            "Get:2 https://developer.download.nvidia.com/compute/cuda/repos/ubuntu2004/x86_64  InRelease [1,581 B]\n",
            "Get:3 https://cloud.r-project.org/bin/linux/ubuntu focal-cran40/ Packages [77.6 kB]\n",
            "Get:4 https://developer.download.nvidia.com/compute/cuda/repos/ubuntu2004/x86_64  Packages [1,010 kB]\n",
            "Get:5 http://security.ubuntu.com/ubuntu focal-security InRelease [114 kB]\n",
            "Get:6 https://packages.cloud.google.com/apt coral-edgetpu-stable InRelease [6,332 B]\n",
            "Get:7 http://ppa.launchpad.net/c2d4u.team/c2d4u4.0+/ubuntu focal InRelease [18.1 kB]\n",
            "Ign:8 https://packages.cloud.google.com/apt coral-edgetpu-stable/main amd64 Packages\n",
            "Hit:9 http://archive.ubuntu.com/ubuntu focal InRelease\n",
            "Get:10 http://archive.ubuntu.com/ubuntu focal-updates InRelease [114 kB]\n",
            "Hit:11 http://ppa.launchpad.net/cran/libgit2/ubuntu focal InRelease\n",
            "Get:8 https://packages.cloud.google.com/apt coral-edgetpu-stable/main amd64 Packages [2,317 B]\n",
            "Get:12 http://security.ubuntu.com/ubuntu focal-security/restricted amd64 Packages [2,270 kB]\n",
            "Get:13 http://ppa.launchpad.net/deadsnakes/ppa/ubuntu focal InRelease [18.1 kB]\n",
            "Get:14 http://archive.ubuntu.com/ubuntu focal-backports InRelease [108 kB]\n",
            "Get:15 http://ppa.launchpad.net/graphics-drivers/ppa/ubuntu focal InRelease [24.3 kB]\n",
            "Get:16 http://archive.ubuntu.com/ubuntu focal-updates/universe amd64 Packages [1,346 kB]\n",
            "Get:17 http://security.ubuntu.com/ubuntu focal-security/main amd64 Packages [2,726 kB]\n",
            "Get:18 http://security.ubuntu.com/ubuntu focal-security/universe amd64 Packages [1,051 kB]\n",
            "Hit:19 http://ppa.launchpad.net/ubuntugis/ppa/ubuntu focal InRelease\n",
            "Get:20 http://archive.ubuntu.com/ubuntu focal-updates/main amd64 Packages [3,202 kB]\n",
            "Get:21 http://ppa.launchpad.net/c2d4u.team/c2d4u4.0+/ubuntu focal/main Sources [2,581 kB]\n",
            "Get:22 http://archive.ubuntu.com/ubuntu focal-updates/restricted amd64 Packages [2,408 kB]\n",
            "Get:23 http://archive.ubuntu.com/ubuntu focal-backports/main amd64 Packages [55.2 kB]\n",
            "Get:24 http://archive.ubuntu.com/ubuntu focal-backports/universe amd64 Packages [28.6 kB]\n",
            "Get:25 http://ppa.launchpad.net/c2d4u.team/c2d4u4.0+/ubuntu focal/main amd64 Packages [1,218 kB]\n",
            "Get:26 http://ppa.launchpad.net/deadsnakes/ppa/ubuntu focal/main amd64 Packages [29.5 kB]\n",
            "Get:27 http://ppa.launchpad.net/graphics-drivers/ppa/ubuntu focal/main amd64 Packages [46.8 kB]\n",
            "Fetched 18.5 MB in 7s (2,636 kB/s)\n",
            "Reading package lists... Done\n",
            "Reading package lists... Done\n",
            "Building dependency tree       \n",
            "Reading state information... Done\n",
            "The following NEW packages will be installed:\n",
            "  edgetpu-compiler\n",
            "0 upgraded, 1 newly installed, 0 to remove and 92 not upgraded.\n",
            "Need to get 7,913 kB of archives.\n",
            "After this operation, 31.2 MB of additional disk space will be used.\n",
            "Get:1 https://packages.cloud.google.com/apt coral-edgetpu-stable/main amd64 edgetpu-compiler amd64 16.0 [7,913 kB]\n",
            "Fetched 7,913 kB in 2s (4,849 kB/s)\n",
            "debconf: unable to initialize frontend: Dialog\n",
            "debconf: (No usable dialog-like program is installed, so the dialog based frontend cannot be used. at /usr/share/perl5/Debconf/FrontEnd/Dialog.pm line 76, <> line 1.)\n",
            "debconf: falling back to frontend: Readline\n",
            "debconf: unable to initialize frontend: Readline\n",
            "debconf: (This frontend requires a controlling tty.)\n",
            "debconf: falling back to frontend: Teletype\n",
            "dpkg-preconfigure: unable to re-open stdin: \n",
            "Selecting previously unselected package edgetpu-compiler.\n",
            "(Reading database ... 122406 files and directories currently installed.)\n",
            "Preparing to unpack .../edgetpu-compiler_16.0_amd64.deb ...\n",
            "Unpacking edgetpu-compiler (16.0) ...\n",
            "Setting up edgetpu-compiler (16.0) ...\n",
            "Processing triggers for libc-bin (2.31-0ubuntu9.9) ...\n"
          ]
        }
      ],
      "source": [
        "! curl https://packages.cloud.google.com/apt/doc/apt-key.gpg | sudo apt-key add -\n",
        "\n",
        "! echo \"deb https://packages.cloud.google.com/apt coral-edgetpu-stable main\" | sudo tee /etc/apt/sources.list.d/coral-edgetpu.list\n",
        "\n",
        "! sudo apt-get update\n",
        "\n",
        "! sudo apt-get install edgetpu-compiler"
      ]
    },
    {
      "cell_type": "markdown",
      "metadata": {
        "id": "qRWewhqFqeL_"
      },
      "source": [
        "Before compiling the `.tflite` file for the Edge TPU, it's important to consider whether your model will fit into the Edge TPU memory. \n",
        "\n",
        "The Edge TPU has approximately 8 MB of SRAM for [caching model paramaters](https://coral.ai/docs/edgetpu/compiler/#parameter-data-caching), so any model close to or over 8 MB will not fit onto the Edge TPU memory. That means the inference times are longer, because some model parameters must be fetched from the host system memory.\n",
        "\n",
        "One way to elimiate the extra latency is to use [model pipelining](https://coral.ai/docs/edgetpu/pipeline/), which splits the model into segments that can run on separate Edge TPUs in series. This can significantly reduce the latency for big models.\n",
        "\n",
        "The following table provides recommendations for the number of Edge TPUs to use with each EfficientDet-Lite model.\n",
        "\n",
        "| Model architecture | Minimum TPUs | Recommended TPUs\n",
        "|--------------------|-------|-------|\n",
        "| EfficientDet-Lite0 | 1     | 1     |\n",
        "| EfficientDet-Lite1 | 1     | 1     |\n",
        "| EfficientDet-Lite2 | 1     | 2     |\n",
        "| EfficientDet-Lite3 | 2     | 2     |\n",
        "| EfficientDet-Lite4 | 2     | 3     |\n",
        "\n",
        "If you need extra Edge TPUs for your model, then update `NUMBER_OF_TPUS` here:"
      ]
    },
    {
      "cell_type": "code",
      "execution_count": 13,
      "metadata": {
        "id": "LZdonJGCqieU",
        "colab": {
          "base_uri": "https://localhost:8080/"
        },
        "outputId": "cc5c6a34-1c0d-4b09-cd0a-39ad4b11b7d5"
      },
      "outputs": [
        {
          "output_type": "stream",
          "name": "stdout",
          "text": [
            "Edge TPU Compiler version 16.0.384591198\n",
            "Searching for valid delegate with step 1\n",
            "Try to compile segment with 267 ops\n",
            "Started a compilation timeout timer of 180 seconds.\n",
            "\n",
            "Model compiled successfully in 3856 ms.\n",
            "\n",
            "Input model: smrc_model.tflite\n",
            "Input size: 4.24MiB\n",
            "Output model: smrc_model_edgetpu.tflite\n",
            "Output size: 5.57MiB\n",
            "On-chip memory used for caching model parameters: 4.21MiB\n",
            "On-chip memory remaining for caching model parameters: 3.29MiB\n",
            "Off-chip memory used for streaming uncached model parameters: 0.00B\n",
            "Number of Edge TPU subgraphs: 1\n",
            "Total number of operations: 267\n",
            "Operation log: smrc_model_edgetpu.log\n",
            "\n",
            "Model successfully compiled but not all operations are supported by the Edge TPU. A percentage of the model will instead run on the CPU, which is slower. If possible, consider updating your model to use only operations supported by the Edge TPU. For details, visit g.co/coral/model-reqs.\n",
            "Number of operations that will run on Edge TPU: 264\n",
            "Number of operations that will run on CPU: 3\n",
            "See the operation log file for individual operation details.\n",
            "Compilation child process completed within timeout period.\n",
            "Compilation succeeded! \n"
          ]
        }
      ],
      "source": [
        "NUMBER_OF_TPUS =  1\n",
        "\n",
        "!edgetpu_compiler --min_runtime_version 13 $TFLITE_FILENAME -d --num_segments=$NUMBER_OF_TPUS "
      ]
    },
    {
      "cell_type": "markdown",
      "metadata": {
        "id": "O2CjkduY02DF"
      },
      "source": [
        "**Beware when using multiple segments:** The Edge TPU Comiler divides the model such that all segments have roughly equal amounts of parameter data, but that does not mean all segments have the same latency. Especially when dividing an SSD model such as EfficientDet, this results in a latency-imbalance between segments, because SSD models have a large post-processing op that actually executes on the CPU, not on the Edge TPU. So although segmenting your model this way is better than running the whole model on just one Edge TPU, we recommend that you segment the EfficientDet-Lite model using our [profiling-based partitioner tool](https://github.com/google-coral/libcoral/tree/master/coral/tools/partitioner#profiling-based-partitioner-for-the-edge-tpu-compiler), which measures each segment's latency on the Edge TPU and then iteratively adjusts the segmentation sizes to provide balanced latency between all segments."
      ]
    },
    {
      "cell_type": "markdown",
      "metadata": {
        "id": "KyBBvyqx0XRn"
      },
      "source": [
        "## Download the files"
      ]
    },
    {
      "cell_type": "code",
      "execution_count": 14,
      "metadata": {
        "id": "M43URVgg0ZcB",
        "colab": {
          "base_uri": "https://localhost:8080/",
          "height": 17
        },
        "outputId": "3c8d0104-4264-4bf5-a78a-351be8a0e611"
      },
      "outputs": [
        {
          "output_type": "display_data",
          "data": {
            "text/plain": [
              "<IPython.core.display.Javascript object>"
            ],
            "application/javascript": [
              "\n",
              "    async function download(id, filename, size) {\n",
              "      if (!google.colab.kernel.accessAllowed) {\n",
              "        return;\n",
              "      }\n",
              "      const div = document.createElement('div');\n",
              "      const label = document.createElement('label');\n",
              "      label.textContent = `Downloading \"${filename}\": `;\n",
              "      div.appendChild(label);\n",
              "      const progress = document.createElement('progress');\n",
              "      progress.max = size;\n",
              "      div.appendChild(progress);\n",
              "      document.body.appendChild(div);\n",
              "\n",
              "      const buffers = [];\n",
              "      let downloaded = 0;\n",
              "\n",
              "      const channel = await google.colab.kernel.comms.open(id);\n",
              "      // Send a message to notify the kernel that we're ready.\n",
              "      channel.send({})\n",
              "\n",
              "      for await (const message of channel.messages) {\n",
              "        // Send a message to notify the kernel that we're ready.\n",
              "        channel.send({})\n",
              "        if (message.buffers) {\n",
              "          for (const buffer of message.buffers) {\n",
              "            buffers.push(buffer);\n",
              "            downloaded += buffer.byteLength;\n",
              "            progress.value = downloaded;\n",
              "          }\n",
              "        }\n",
              "      }\n",
              "      const blob = new Blob(buffers, {type: 'application/binary'});\n",
              "      const a = document.createElement('a');\n",
              "      a.href = window.URL.createObjectURL(blob);\n",
              "      a.download = filename;\n",
              "      div.appendChild(a);\n",
              "      a.click();\n",
              "      div.remove();\n",
              "    }\n",
              "  "
            ]
          },
          "metadata": {}
        },
        {
          "output_type": "display_data",
          "data": {
            "text/plain": [
              "<IPython.core.display.Javascript object>"
            ],
            "application/javascript": [
              "download(\"download_d6066841-faaa-4fc9-a6e3-e1eab5b38cfc\", \"smrc_model_edgetpu.tflite\", 5842624)"
            ]
          },
          "metadata": {}
        },
        {
          "output_type": "display_data",
          "data": {
            "text/plain": [
              "<IPython.core.display.Javascript object>"
            ],
            "application/javascript": [
              "\n",
              "    async function download(id, filename, size) {\n",
              "      if (!google.colab.kernel.accessAllowed) {\n",
              "        return;\n",
              "      }\n",
              "      const div = document.createElement('div');\n",
              "      const label = document.createElement('label');\n",
              "      label.textContent = `Downloading \"${filename}\": `;\n",
              "      div.appendChild(label);\n",
              "      const progress = document.createElement('progress');\n",
              "      progress.max = size;\n",
              "      div.appendChild(progress);\n",
              "      document.body.appendChild(div);\n",
              "\n",
              "      const buffers = [];\n",
              "      let downloaded = 0;\n",
              "\n",
              "      const channel = await google.colab.kernel.comms.open(id);\n",
              "      // Send a message to notify the kernel that we're ready.\n",
              "      channel.send({})\n",
              "\n",
              "      for await (const message of channel.messages) {\n",
              "        // Send a message to notify the kernel that we're ready.\n",
              "        channel.send({})\n",
              "        if (message.buffers) {\n",
              "          for (const buffer of message.buffers) {\n",
              "            buffers.push(buffer);\n",
              "            downloaded += buffer.byteLength;\n",
              "            progress.value = downloaded;\n",
              "          }\n",
              "        }\n",
              "      }\n",
              "      const blob = new Blob(buffers, {type: 'application/binary'});\n",
              "      const a = document.createElement('a');\n",
              "      a.href = window.URL.createObjectURL(blob);\n",
              "      a.download = filename;\n",
              "      div.appendChild(a);\n",
              "      a.click();\n",
              "      div.remove();\n",
              "    }\n",
              "  "
            ]
          },
          "metadata": {}
        },
        {
          "output_type": "display_data",
          "data": {
            "text/plain": [
              "<IPython.core.display.Javascript object>"
            ],
            "application/javascript": [
              "download(\"download_114646de-f5d1-4c41-9d94-7ff62b6f8ccd\", \"railwayLabels.txt\", 21)"
            ]
          },
          "metadata": {}
        }
      ],
      "source": [
        "from google.colab import files\n",
        "#Download model and label file for edge TPU (Coral USB Accelerator)\n",
        "files.download(TFLITE_FILENAME.replace('.tflite', '_edgetpu.tflite'))\n",
        "files.download(LABELS_FILENAME)"
      ]
    },
    {
      "cell_type": "markdown",
      "metadata": {
        "id": "HS4u77W5gnzQ"
      },
      "source": [
        "## More resources\n",
        "\n",
        "* For more information about the Model Maker library used in this tutorial, see the [TensorFlow Lite Model Maker guide](https://www.tensorflow.org/lite/guide/model_maker) and [API reference](https://www.tensorflow.org/lite/api_docs/python/tflite_model_maker).\n",
        "\n",
        "* For other transfer learning tutorials that are compatible with the Edge TPU, see the [Colab tutorials for Coral](https://github.com/google-coral/tutorials#colab-tutorials-for-coral).\n",
        "\n",
        "* You can also find more examples that show how to run inference on the Edge TPU at [coral.ai/examples](https://coral.ai/examples/#code-examples/)."
      ]
    }
  ],
  "metadata": {
    "accelerator": "GPU",
    "colab": {
      "name": "trainSMRC",
      "provenance": []
    },
    "kernelspec": {
      "display_name": "Python 3",
      "name": "python3"
    }
  },
  "nbformat": 4,
  "nbformat_minor": 0
}