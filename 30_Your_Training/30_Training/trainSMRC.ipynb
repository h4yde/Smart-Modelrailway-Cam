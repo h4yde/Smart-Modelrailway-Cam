{
  "cells": [
    {
      "cell_type": "markdown",
      "metadata": {
        "id": "Gb7qyhNL1yWt"
      },
      "source": [
        "# Retrain EfficientDet-Lite0 Model for the \"Modelrailway-Cam\""
      ]
    },
    {
      "cell_type": "markdown",
      "metadata": {
        "id": "sr3q-gvm3cI8"
      },
      "source": [
        "In this jupyter-notebook, we'll retrain an EfficientDet-Lite object detection model (derived from [EfficientDet](https://ai.googleblog.com/2020/04/efficientdet-towards-scalable-and.html)) using the [TensorFlow Lite Model Maker library](https://www.tensorflow.org/lite/guide/model_maker), and then compile it to run on the [Coral Edge TPU](https://www.coral.ai/products/). All in about 10 minutes on a GPU. Please change runtime type (Laufzeittyp) to \"GPU\" in the menue.\n",
        "\n",
        "This notebook retrains the model using images of a modelrailway showing locomotives and waggons. It is an adapted version of the original notebook: [Train a salad detector with TFLite Model Maker - Colaboratory (google.com)](https://colab.research.google.com/github/googlecodelabs/odml-pathways/blob/main/object-detection/codelab2/python/Train_a_salad_detector_with_TFLite_Model_Maker.ipynb)\n",
        "\n",
        "Author: Detlef Heinze   Version: 1.0  "
      ]
    },
    {
      "cell_type": "code",
      "source": [
        "#@title\n",
        "# -*- coding: utf-8 -*-"
      ],
      "metadata": {
        "id": "IgYinplOpkKK"
      },
      "execution_count": 1,
      "outputs": []
    },
    {
      "cell_type": "code",
      "source": [
        "#Use your google drive for this notebook. Follow messages on scren.\n",
        "from google.colab import drive\n",
        "drive.mount('/content/drive')"
      ],
      "metadata": {
        "id": "s80ycacXldoa",
        "colab": {
          "base_uri": "https://localhost:8080/"
        },
        "outputId": "ea2ea084-d18f-40e2-e01c-2b2ffb0f9d2a"
      },
      "execution_count": 2,
      "outputs": [
        {
          "output_type": "stream",
          "name": "stdout",
          "text": [
            "Mounted at /content/drive\n"
          ]
        }
      ]
    },
    {
      "cell_type": "markdown",
      "metadata": {
        "id": "PzoNZRp4sVxK"
      },
      "source": [
        "The training data used must be present in the path /content/drive/MyDrive/TrainData\n"
      ]
    },
    {
      "cell_type": "markdown",
      "metadata": {
        "id": "2vvAObmTqglq"
      },
      "source": [
        "## Import the required packages"
      ]
    },
    {
      "cell_type": "code",
      "execution_count": 3,
      "metadata": {
        "id": "qhl8lqVamEty",
        "colab": {
          "base_uri": "https://localhost:8080/"
        },
        "outputId": "66a958b3-5e7a-4ad4-daa4-927ecea54fa3"
      },
      "outputs": [
        {
          "output_type": "stream",
          "name": "stdout",
          "text": [
            "\u001b[K     |████████████████████████████████| 642 kB 4.9 MB/s \n",
            "\u001b[K     |████████████████████████████████| 120 kB 61.5 MB/s \n",
            "\u001b[K     |████████████████████████████████| 6.4 MB 65.1 MB/s \n",
            "\u001b[K     |████████████████████████████████| 1.2 MB 60.6 MB/s \n",
            "\u001b[K     |████████████████████████████████| 10.9 MB 54.0 MB/s \n",
            "\u001b[K     |████████████████████████████████| 840 kB 64.3 MB/s \n",
            "\u001b[K     |████████████████████████████████| 3.4 MB 48.9 MB/s \n",
            "\u001b[K     |████████████████████████████████| 55.1 MB 1.1 MB/s \n",
            "\u001b[K     |████████████████████████████████| 1.1 MB 59.0 MB/s \n",
            "\u001b[K     |████████████████████████████████| 237 kB 64.1 MB/s \n",
            "\u001b[K     |████████████████████████████████| 87 kB 9.1 MB/s \n",
            "\u001b[K     |████████████████████████████████| 596 kB 71.0 MB/s \n",
            "\u001b[K     |████████████████████████████████| 77 kB 7.7 MB/s \n",
            "\u001b[K     |████████████████████████████████| 25.3 MB 1.4 MB/s \n",
            "\u001b[K     |████████████████████████████████| 99 kB 11.9 MB/s \n",
            "\u001b[K     |████████████████████████████████| 48.3 MB 1.5 MB/s \n",
            "\u001b[K     |████████████████████████████████| 352 kB 70.5 MB/s \n",
            "\u001b[K     |████████████████████████████████| 40 kB 6.9 MB/s \n",
            "\u001b[K     |████████████████████████████████| 55.1 MB 1.1 MB/s \n",
            "\u001b[K     |████████████████████████████████| 55.1 MB 1.2 MB/s \n",
            "\u001b[K     |████████████████████████████████| 55.1 MB 71 kB/s \n",
            "\u001b[K     |████████████████████████████████| 42.6 MB 1.2 MB/s \n",
            "\u001b[K     |████████████████████████████████| 42.6 MB 1.3 MB/s \n",
            "\u001b[K     |████████████████████████████████| 42.6 MB 1.2 MB/s \n",
            "\u001b[K     |████████████████████████████████| 42.6 MB 1.4 MB/s \n",
            "\u001b[K     |████████████████████████████████| 42.6 MB 1.3 MB/s \n",
            "\u001b[K     |████████████████████████████████| 42.6 MB 1.2 MB/s \n",
            "\u001b[K     |████████████████████████████████| 42.6 MB 1.2 MB/s \n",
            "\u001b[K     |████████████████████████████████| 42.6 MB 1.2 MB/s \n",
            "\u001b[K     |████████████████████████████████| 42.6 MB 1.1 MB/s \n",
            "\u001b[K     |████████████████████████████████| 42.6 MB 1.2 MB/s \n",
            "\u001b[K     |████████████████████████████████| 42.6 MB 1.4 MB/s \n",
            "\u001b[K     |████████████████████████████████| 42.6 MB 1.5 MB/s \n",
            "\u001b[K     |████████████████████████████████| 42.6 MB 1.4 MB/s \n",
            "\u001b[K     |████████████████████████████████| 42.6 MB 1.2 MB/s \n",
            "\u001b[K     |████████████████████████████████| 42.6 MB 1.4 MB/s \n",
            "\u001b[K     |████████████████████████████████| 42.5 MB 1.5 MB/s \n",
            "\u001b[K     |████████████████████████████████| 1.1 MB 68.1 MB/s \n",
            "\u001b[K     |████████████████████████████████| 213 kB 73.0 MB/s \n",
            "\u001b[?25h  Building wheel for fire (setup.py) ... \u001b[?25l\u001b[?25hdone\n",
            "  Building wheel for py-cpuinfo (setup.py) ... \u001b[?25l\u001b[?25hdone\n",
            "\u001b[31mERROR: pip's dependency resolver does not currently take into account all the packages that are installed. This behaviour is the source of the following dependency conflicts.\n",
            "datascience 0.10.6 requires folium==0.2.1, but you have folium 0.8.3 which is incompatible.\u001b[0m\n",
            "\u001b[K     |████████████████████████████████| 42.5 MB 1.3 MB/s \n",
            "\u001b[?25h"
          ]
        }
      ],
      "source": [
        "!pip install -q tflite-model-maker\n",
        "!pip install -q pycocotools\n",
        "!pip install -q tflite-support"
      ]
    },
    {
      "cell_type": "code",
      "execution_count": 4,
      "metadata": {
        "id": "XtxiUeZEiXpt"
      },
      "outputs": [],
      "source": [
        "import numpy as np\n",
        "import os\n",
        "\n",
        "from tflite_model_maker.config import ExportFormat\n",
        "from tflite_model_maker import model_spec\n",
        "from tflite_model_maker import object_detector\n",
        "\n",
        "import tensorflow as tf\n",
        "assert tf.__version__.startswith('2')\n",
        "\n",
        "tf.get_logger().setLevel('ERROR')\n",
        "from absl import logging\n",
        "logging.set_verbosity(logging.ERROR)"
      ]
    },
    {
      "cell_type": "markdown",
      "metadata": {
        "id": "H0XM-oIfhgQ7"
      },
      "source": [
        "## Load the training data\n"
      ]
    },
    {
      "cell_type": "markdown",
      "metadata": {
        "id": "-9VoZ_Rud2V3"
      },
      "source": [
        "### Load the training data set by using training.csv"
      ]
    },
    {
      "cell_type": "markdown",
      "metadata": {
        "id": "BRd13bfetO7B"
      },
      "source": [
        "\n",
        "\n",
        "Model Maker requires that we load our dataset using the [`DataLoader`](https://www.tensorflow.org/lite/api_docs/python/tflite_model_maker/object_detector/DataLoader) API. So in this case, we'll load it from a CSV file that defines the images for training, images for validation, and images for testing. At the start change directory  to the Data directory.\n",
        "\n",
        "\n"
      ]
    },
    {
      "cell_type": "code",
      "execution_count": 5,
      "metadata": {
        "id": "04ObtdneqvP5",
        "colab": {
          "base_uri": "https://localhost:8080/"
        },
        "outputId": "4f3eca5c-8352-4fd5-a171-200e8245d17e"
      },
      "outputs": [
        {
          "output_type": "stream",
          "name": "stdout",
          "text": [
            "/content/drive/MyDrive/TrainData\n"
          ]
        }
      ],
      "source": [
        "#Load the CSV file from your Google Drive.\n",
        "%cd drive/MyDrive/TrainData\n",
        "train_data, validation_data, test_data = object_detector.DataLoader.from_csv('training.csv')"
      ]
    },
    {
      "cell_type": "markdown",
      "metadata": {
        "id": "S8clx0KPutCM"
      },
      "source": [
        "## Select the model spec"
      ]
    },
    {
      "cell_type": "markdown",
      "metadata": {
        "id": "vn61LJ9QbOPi"
      },
      "source": [
        "Model Maker supports the EfficientDet-Lite family of object detection models that are compatible with the Edge TPU. (EfficientDet-Lite is derived from [EfficientDet](https://ai.googleblog.com/2020/04/efficientdet-towards-scalable-and.html), which offers state-of-the-art accuracy in a small model size). There are several model sizes you can choose from:\n",
        "\n",
        "|| Model architecture | Size(MB)* | Latency(ms)** | Average Precision*** |\n",
        "|-|--------------------|-----------|---------------|----------------------|\n",
        "|| EfficientDet-Lite0 | 5.7       | 37.4            | 30.4%               |\n",
        "|| EfficientDet-Lite1 | 7.6       | 56.3            | 34.3%               |\n",
        "|| EfficientDet-Lite2 | 10.2      | 104.6           | 36.0%               |\n",
        "|| EfficientDet-Lite3 | 14.4      | 107.6           | 39.4%               |\n",
        "| <td colspan=4><br><i>* File size of the compiled Edge TPU models. <br/>** Latency measured on a desktop CPU with a Coral USB Accelerator. <br/>*** Average Precision is the mAP (mean Average Precision) on the COCO 2017 validation dataset.</i></td> |\n",
        "\n",
        "Beware that the Lite2 and Lite3 models do not fit onto the Edge TPU's onboard memory, so you'll see even greater latency when using those, due to the cost of fetching data from the host system memory. Maybe this extra latency is okay for your application, but if it's not and you require the precision of the larger models, then you can [pipeline the model across multiple Edge TPUs](https://coral.ai/docs/edgetpu/pipeline/) (more about this when we compile the model below).\n",
        "\n",
        "For the modelrailway-cam, we'll use Lite0:"
      ]
    },
    {
      "cell_type": "code",
      "execution_count": 6,
      "metadata": {
        "id": "SM9gePHw9Jv1"
      },
      "outputs": [],
      "source": [
        "spec = object_detector.EfficientDetLite0Spec()"
      ]
    },
    {
      "cell_type": "markdown",
      "metadata": {
        "id": "5qjq2UEHCLUi"
      },
      "source": [
        "## Create and train the model"
      ]
    },
    {
      "cell_type": "markdown",
      "metadata": {
        "id": "2uZkLR6N6gDR"
      },
      "source": [
        "Now we need to create our model according to the model spec, load our dataset into the model, specify training parameters, and begin training. \n",
        "\n",
        "Using Model Maker, we accomplished all of that with [`create()`](https://www.tensorflow.org/lite/api_docs/python/tflite_model_maker/object_detector/create):"
      ]
    },
    {
      "cell_type": "code",
      "execution_count": 7,
      "metadata": {
        "id": "kwlYdTcg63xy",
        "colab": {
          "base_uri": "https://localhost:8080/"
        },
        "outputId": "d448fb1b-8ad9-447c-cfba-f700f6d36140"
      },
      "outputs": [
        {
          "output_type": "stream",
          "name": "stdout",
          "text": [
            "Epoch 1/40\n",
            "46/46 [==============================] - 56s 306ms/step - det_loss: 1.2900 - cls_loss: 0.7846 - box_loss: 0.0101 - reg_l2_loss: 0.0631 - loss: 1.3530 - learning_rate: 0.0090 - gradient_norm: 2.9363 - val_det_loss: 0.8536 - val_cls_loss: 0.6209 - val_box_loss: 0.0047 - val_reg_l2_loss: 0.0631 - val_loss: 0.9167\n",
            "Epoch 2/40\n",
            "46/46 [==============================] - 11s 247ms/step - det_loss: 0.5954 - cls_loss: 0.3293 - box_loss: 0.0053 - reg_l2_loss: 0.0631 - loss: 0.6585 - learning_rate: 0.0100 - gradient_norm: 3.1075 - val_det_loss: 0.4014 - val_cls_loss: 0.2232 - val_box_loss: 0.0036 - val_reg_l2_loss: 0.0632 - val_loss: 0.4646\n",
            "Epoch 3/40\n",
            "46/46 [==============================] - 11s 248ms/step - det_loss: 0.4624 - cls_loss: 0.2467 - box_loss: 0.0043 - reg_l2_loss: 0.0632 - loss: 0.5256 - learning_rate: 0.0099 - gradient_norm: 2.9082 - val_det_loss: 0.3603 - val_cls_loss: 0.1734 - val_box_loss: 0.0037 - val_reg_l2_loss: 0.0632 - val_loss: 0.4235\n",
            "Epoch 4/40\n",
            "46/46 [==============================] - 12s 252ms/step - det_loss: 0.3430 - cls_loss: 0.2045 - box_loss: 0.0028 - reg_l2_loss: 0.0632 - loss: 0.4062 - learning_rate: 0.0098 - gradient_norm: 2.6237 - val_det_loss: 0.2775 - val_cls_loss: 0.1517 - val_box_loss: 0.0025 - val_reg_l2_loss: 0.0632 - val_loss: 0.3407\n",
            "Epoch 5/40\n",
            "46/46 [==============================] - 18s 388ms/step - det_loss: 0.3607 - cls_loss: 0.2221 - box_loss: 0.0028 - reg_l2_loss: 0.0633 - loss: 0.4240 - learning_rate: 0.0097 - gradient_norm: 2.8373 - val_det_loss: 0.3375 - val_cls_loss: 0.2387 - val_box_loss: 0.0020 - val_reg_l2_loss: 0.0633 - val_loss: 0.4008\n",
            "Epoch 6/40\n",
            "46/46 [==============================] - 12s 257ms/step - det_loss: 0.3357 - cls_loss: 0.1964 - box_loss: 0.0028 - reg_l2_loss: 0.0633 - loss: 0.3990 - learning_rate: 0.0095 - gradient_norm: 2.6771 - val_det_loss: 0.2381 - val_cls_loss: 0.1492 - val_box_loss: 0.0018 - val_reg_l2_loss: 0.0633 - val_loss: 0.3014\n",
            "Epoch 7/40\n",
            "46/46 [==============================] - 12s 266ms/step - det_loss: 0.3002 - cls_loss: 0.1815 - box_loss: 0.0024 - reg_l2_loss: 0.0633 - loss: 0.3635 - learning_rate: 0.0093 - gradient_norm: 2.4057 - val_det_loss: 0.3077 - val_cls_loss: 0.1551 - val_box_loss: 0.0031 - val_reg_l2_loss: 0.0633 - val_loss: 0.3711\n",
            "Epoch 8/40\n",
            "46/46 [==============================] - 12s 257ms/step - det_loss: 0.2560 - cls_loss: 0.1526 - box_loss: 0.0021 - reg_l2_loss: 0.0633 - loss: 0.3193 - learning_rate: 0.0091 - gradient_norm: 2.2654 - val_det_loss: 0.1951 - val_cls_loss: 0.1182 - val_box_loss: 0.0015 - val_reg_l2_loss: 0.0634 - val_loss: 0.2585\n",
            "Epoch 9/40\n",
            "46/46 [==============================] - 12s 256ms/step - det_loss: 0.2675 - cls_loss: 0.1624 - box_loss: 0.0021 - reg_l2_loss: 0.0634 - loss: 0.3308 - learning_rate: 0.0089 - gradient_norm: 2.3747 - val_det_loss: 0.1925 - val_cls_loss: 0.1494 - val_box_loss: 8.6334e-04 - val_reg_l2_loss: 0.0634 - val_loss: 0.2559\n",
            "Epoch 10/40\n",
            "46/46 [==============================] - 13s 287ms/step - det_loss: 0.2782 - cls_loss: 0.1546 - box_loss: 0.0025 - reg_l2_loss: 0.0634 - loss: 0.3416 - learning_rate: 0.0086 - gradient_norm: 2.1626 - val_det_loss: 0.1642 - val_cls_loss: 0.1187 - val_box_loss: 9.0919e-04 - val_reg_l2_loss: 0.0634 - val_loss: 0.2276\n",
            "Epoch 11/40\n",
            "46/46 [==============================] - 12s 257ms/step - det_loss: 0.2373 - cls_loss: 0.1480 - box_loss: 0.0018 - reg_l2_loss: 0.0634 - loss: 0.3007 - learning_rate: 0.0083 - gradient_norm: 2.2078 - val_det_loss: 0.1939 - val_cls_loss: 0.1338 - val_box_loss: 0.0012 - val_reg_l2_loss: 0.0634 - val_loss: 0.2573\n",
            "Epoch 12/40\n",
            "46/46 [==============================] - 12s 265ms/step - det_loss: 0.2451 - cls_loss: 0.1483 - box_loss: 0.0019 - reg_l2_loss: 0.0634 - loss: 0.3085 - learning_rate: 0.0080 - gradient_norm: 2.3230 - val_det_loss: 0.2221 - val_cls_loss: 0.1478 - val_box_loss: 0.0015 - val_reg_l2_loss: 0.0634 - val_loss: 0.2855\n",
            "Epoch 13/40\n",
            "46/46 [==============================] - 12s 253ms/step - det_loss: 0.2609 - cls_loss: 0.1540 - box_loss: 0.0021 - reg_l2_loss: 0.0634 - loss: 0.3243 - learning_rate: 0.0077 - gradient_norm: 2.0652 - val_det_loss: 0.1370 - val_cls_loss: 0.0990 - val_box_loss: 7.6013e-04 - val_reg_l2_loss: 0.0634 - val_loss: 0.2004\n",
            "Epoch 14/40\n",
            "46/46 [==============================] - 12s 256ms/step - det_loss: 0.2112 - cls_loss: 0.1356 - box_loss: 0.0015 - reg_l2_loss: 0.0634 - loss: 0.2746 - learning_rate: 0.0073 - gradient_norm: 1.9305 - val_det_loss: 0.1941 - val_cls_loss: 0.1183 - val_box_loss: 0.0015 - val_reg_l2_loss: 0.0634 - val_loss: 0.2575\n",
            "Epoch 15/40\n",
            "46/46 [==============================] - 14s 299ms/step - det_loss: 0.2031 - cls_loss: 0.1255 - box_loss: 0.0016 - reg_l2_loss: 0.0634 - loss: 0.2665 - learning_rate: 0.0070 - gradient_norm: 1.8250 - val_det_loss: 0.1624 - val_cls_loss: 0.1151 - val_box_loss: 9.4631e-04 - val_reg_l2_loss: 0.0634 - val_loss: 0.2258\n",
            "Epoch 16/40\n",
            "46/46 [==============================] - 12s 256ms/step - det_loss: 0.2010 - cls_loss: 0.1231 - box_loss: 0.0016 - reg_l2_loss: 0.0634 - loss: 0.2644 - learning_rate: 0.0066 - gradient_norm: 1.8838 - val_det_loss: 0.1668 - val_cls_loss: 0.1176 - val_box_loss: 9.8451e-04 - val_reg_l2_loss: 0.0634 - val_loss: 0.2302\n",
            "Epoch 17/40\n",
            "46/46 [==============================] - 12s 253ms/step - det_loss: 0.1824 - cls_loss: 0.1169 - box_loss: 0.0013 - reg_l2_loss: 0.0634 - loss: 0.2458 - learning_rate: 0.0062 - gradient_norm: 1.7509 - val_det_loss: 0.1585 - val_cls_loss: 0.1120 - val_box_loss: 9.2917e-04 - val_reg_l2_loss: 0.0634 - val_loss: 0.2219\n",
            "Epoch 18/40\n",
            "46/46 [==============================] - 12s 255ms/step - det_loss: 0.1981 - cls_loss: 0.1215 - box_loss: 0.0015 - reg_l2_loss: 0.0634 - loss: 0.2615 - learning_rate: 0.0058 - gradient_norm: 2.0307 - val_det_loss: 0.1481 - val_cls_loss: 0.1010 - val_box_loss: 9.4095e-04 - val_reg_l2_loss: 0.0634 - val_loss: 0.2115\n",
            "Epoch 19/40\n",
            "46/46 [==============================] - 12s 255ms/step - det_loss: 0.2021 - cls_loss: 0.1253 - box_loss: 0.0015 - reg_l2_loss: 0.0634 - loss: 0.2655 - learning_rate: 0.0054 - gradient_norm: 2.0389 - val_det_loss: 0.1289 - val_cls_loss: 0.0881 - val_box_loss: 8.1640e-04 - val_reg_l2_loss: 0.0634 - val_loss: 0.1923\n",
            "Epoch 20/40\n",
            "46/46 [==============================] - 14s 296ms/step - det_loss: 0.1835 - cls_loss: 0.1152 - box_loss: 0.0014 - reg_l2_loss: 0.0634 - loss: 0.2469 - learning_rate: 0.0050 - gradient_norm: 1.8344 - val_det_loss: 0.1439 - val_cls_loss: 0.0909 - val_box_loss: 0.0011 - val_reg_l2_loss: 0.0634 - val_loss: 0.2073\n",
            "Epoch 21/40\n",
            "46/46 [==============================] - 12s 257ms/step - det_loss: 0.1814 - cls_loss: 0.1190 - box_loss: 0.0012 - reg_l2_loss: 0.0634 - loss: 0.2448 - learning_rate: 0.0046 - gradient_norm: 1.9139 - val_det_loss: 0.1437 - val_cls_loss: 0.1031 - val_box_loss: 8.1298e-04 - val_reg_l2_loss: 0.0634 - val_loss: 0.2071\n",
            "Epoch 22/40\n",
            "46/46 [==============================] - 12s 255ms/step - det_loss: 0.1846 - cls_loss: 0.1147 - box_loss: 0.0014 - reg_l2_loss: 0.0634 - loss: 0.2480 - learning_rate: 0.0042 - gradient_norm: 1.9399 - val_det_loss: 0.1441 - val_cls_loss: 0.1033 - val_box_loss: 8.1560e-04 - val_reg_l2_loss: 0.0634 - val_loss: 0.2075\n",
            "Epoch 23/40\n",
            "46/46 [==============================] - 12s 253ms/step - det_loss: 0.1780 - cls_loss: 0.1165 - box_loss: 0.0012 - reg_l2_loss: 0.0634 - loss: 0.2414 - learning_rate: 0.0038 - gradient_norm: 1.8468 - val_det_loss: 0.1352 - val_cls_loss: 0.0943 - val_box_loss: 8.1834e-04 - val_reg_l2_loss: 0.0634 - val_loss: 0.1986\n",
            "Epoch 24/40\n",
            "46/46 [==============================] - 12s 268ms/step - det_loss: 0.1587 - cls_loss: 0.1027 - box_loss: 0.0011 - reg_l2_loss: 0.0634 - loss: 0.2221 - learning_rate: 0.0034 - gradient_norm: 1.7084 - val_det_loss: 0.1216 - val_cls_loss: 0.0838 - val_box_loss: 7.5425e-04 - val_reg_l2_loss: 0.0634 - val_loss: 0.1849\n",
            "Epoch 25/40\n",
            "46/46 [==============================] - 13s 285ms/step - det_loss: 0.1781 - cls_loss: 0.1166 - box_loss: 0.0012 - reg_l2_loss: 0.0634 - loss: 0.2415 - learning_rate: 0.0030 - gradient_norm: 1.7863 - val_det_loss: 0.1130 - val_cls_loss: 0.0829 - val_box_loss: 6.0244e-04 - val_reg_l2_loss: 0.0634 - val_loss: 0.1764\n",
            "Epoch 26/40\n",
            "46/46 [==============================] - 12s 259ms/step - det_loss: 0.1643 - cls_loss: 0.1064 - box_loss: 0.0012 - reg_l2_loss: 0.0634 - loss: 0.2277 - learning_rate: 0.0027 - gradient_norm: 1.7368 - val_det_loss: 0.1163 - val_cls_loss: 0.0820 - val_box_loss: 6.8606e-04 - val_reg_l2_loss: 0.0634 - val_loss: 0.1797\n",
            "Epoch 27/40\n",
            "46/46 [==============================] - 12s 255ms/step - det_loss: 0.1501 - cls_loss: 0.1013 - box_loss: 9.7594e-04 - reg_l2_loss: 0.0634 - loss: 0.2135 - learning_rate: 0.0023 - gradient_norm: 1.6243 - val_det_loss: 0.1180 - val_cls_loss: 0.0824 - val_box_loss: 7.1198e-04 - val_reg_l2_loss: 0.0634 - val_loss: 0.1814\n",
            "Epoch 28/40\n",
            "46/46 [==============================] - 12s 266ms/step - det_loss: 0.1716 - cls_loss: 0.1120 - box_loss: 0.0012 - reg_l2_loss: 0.0634 - loss: 0.2350 - learning_rate: 0.0020 - gradient_norm: 1.8238 - val_det_loss: 0.1150 - val_cls_loss: 0.0793 - val_box_loss: 7.1399e-04 - val_reg_l2_loss: 0.0634 - val_loss: 0.1784\n",
            "Epoch 29/40\n",
            "46/46 [==============================] - 12s 255ms/step - det_loss: 0.1589 - cls_loss: 0.1069 - box_loss: 0.0010 - reg_l2_loss: 0.0634 - loss: 0.2223 - learning_rate: 0.0017 - gradient_norm: 1.8618 - val_det_loss: 0.1203 - val_cls_loss: 0.0936 - val_box_loss: 5.3542e-04 - val_reg_l2_loss: 0.0634 - val_loss: 0.1837\n",
            "Epoch 30/40\n",
            "46/46 [==============================] - 13s 287ms/step - det_loss: 0.1692 - cls_loss: 0.1060 - box_loss: 0.0013 - reg_l2_loss: 0.0634 - loss: 0.2326 - learning_rate: 0.0014 - gradient_norm: 1.7312 - val_det_loss: 0.1187 - val_cls_loss: 0.0899 - val_box_loss: 5.7640e-04 - val_reg_l2_loss: 0.0634 - val_loss: 0.1820\n",
            "Epoch 31/40\n",
            "46/46 [==============================] - 12s 268ms/step - det_loss: 0.1379 - cls_loss: 0.0943 - box_loss: 8.7312e-04 - reg_l2_loss: 0.0634 - loss: 0.2013 - learning_rate: 0.0011 - gradient_norm: 1.4729 - val_det_loss: 0.1119 - val_cls_loss: 0.0821 - val_box_loss: 5.9641e-04 - val_reg_l2_loss: 0.0634 - val_loss: 0.1753\n",
            "Epoch 32/40\n",
            "46/46 [==============================] - 12s 253ms/step - det_loss: 0.1525 - cls_loss: 0.1015 - box_loss: 0.0010 - reg_l2_loss: 0.0634 - loss: 0.2159 - learning_rate: 8.8634e-04 - gradient_norm: 1.5915 - val_det_loss: 0.1135 - val_cls_loss: 0.0824 - val_box_loss: 6.2238e-04 - val_reg_l2_loss: 0.0634 - val_loss: 0.1769\n",
            "Epoch 33/40\n",
            "46/46 [==============================] - 12s 252ms/step - det_loss: 0.1508 - cls_loss: 0.1033 - box_loss: 9.5052e-04 - reg_l2_loss: 0.0634 - loss: 0.2142 - learning_rate: 6.7118e-04 - gradient_norm: 1.6227 - val_det_loss: 0.1122 - val_cls_loss: 0.0830 - val_box_loss: 5.8388e-04 - val_reg_l2_loss: 0.0634 - val_loss: 0.1755\n",
            "Epoch 34/40\n",
            "46/46 [==============================] - 12s 257ms/step - det_loss: 0.1507 - cls_loss: 0.1029 - box_loss: 9.5436e-04 - reg_l2_loss: 0.0634 - loss: 0.2140 - learning_rate: 4.8410e-04 - gradient_norm: 1.6195 - val_det_loss: 0.1120 - val_cls_loss: 0.0809 - val_box_loss: 6.2124e-04 - val_reg_l2_loss: 0.0634 - val_loss: 0.1754\n",
            "Epoch 35/40\n",
            "46/46 [==============================] - 13s 279ms/step - det_loss: 0.1357 - cls_loss: 0.0940 - box_loss: 8.3382e-04 - reg_l2_loss: 0.0634 - loss: 0.1991 - learning_rate: 3.2630e-04 - gradient_norm: 1.5801 - val_det_loss: 0.1124 - val_cls_loss: 0.0817 - val_box_loss: 6.1330e-04 - val_reg_l2_loss: 0.0634 - val_loss: 0.1757\n",
            "Epoch 36/40\n",
            "46/46 [==============================] - 12s 271ms/step - det_loss: 0.1512 - cls_loss: 0.1027 - box_loss: 9.7000e-04 - reg_l2_loss: 0.0634 - loss: 0.2145 - learning_rate: 1.9881e-04 - gradient_norm: 1.7962 - val_det_loss: 0.1093 - val_cls_loss: 0.0799 - val_box_loss: 5.8797e-04 - val_reg_l2_loss: 0.0634 - val_loss: 0.1726\n",
            "Epoch 37/40\n",
            "46/46 [==============================] - 12s 255ms/step - det_loss: 0.1472 - cls_loss: 0.1013 - box_loss: 9.1738e-04 - reg_l2_loss: 0.0634 - loss: 0.2106 - learning_rate: 1.0246e-04 - gradient_norm: 1.7058 - val_det_loss: 0.1091 - val_cls_loss: 0.0806 - val_box_loss: 5.6898e-04 - val_reg_l2_loss: 0.0634 - val_loss: 0.1724\n",
            "Epoch 38/40\n",
            "46/46 [==============================] - 12s 253ms/step - det_loss: 0.1571 - cls_loss: 0.1061 - box_loss: 0.0010 - reg_l2_loss: 0.0634 - loss: 0.2205 - learning_rate: 3.7871e-05 - gradient_norm: 1.7579 - val_det_loss: 0.1086 - val_cls_loss: 0.0802 - val_box_loss: 5.6906e-04 - val_reg_l2_loss: 0.0634 - val_loss: 0.1720\n",
            "Epoch 39/40\n",
            "46/46 [==============================] - 12s 254ms/step - det_loss: 0.1602 - cls_loss: 0.1068 - box_loss: 0.0011 - reg_l2_loss: 0.0634 - loss: 0.2235 - learning_rate: 5.4645e-06 - gradient_norm: 1.7844 - val_det_loss: 0.1085 - val_cls_loss: 0.0801 - val_box_loss: 5.6725e-04 - val_reg_l2_loss: 0.0634 - val_loss: 0.1718\n",
            "Epoch 40/40\n",
            "46/46 [==============================] - 14s 299ms/step - det_loss: 0.1459 - cls_loss: 0.0997 - box_loss: 9.2479e-04 - reg_l2_loss: 0.0634 - loss: 0.2093 - learning_rate: 5.4496e-06 - gradient_norm: 1.6932 - val_det_loss: 0.1083 - val_cls_loss: 0.0800 - val_box_loss: 5.6659e-04 - val_reg_l2_loss: 0.0634 - val_loss: 0.1717\n"
          ]
        }
      ],
      "source": [
        "model = object_detector.create(train_data=train_data, \n",
        "                               model_spec=spec, \n",
        "                               validation_data=validation_data, \n",
        "                               epochs=40, \n",
        "                               batch_size=8, \n",
        "                               train_whole_model=True)"
      ]
    },
    {
      "cell_type": "markdown",
      "metadata": {
        "id": "3n5-o3vvGfnJ"
      },
      "source": [
        "## Evaluate the model"
      ]
    },
    {
      "cell_type": "markdown",
      "metadata": {
        "id": "-BzCHLWJ6h7q"
      },
      "source": [
        "Now we'll use the test dataset to evaluate how well the model performs with data it has never seen before.\n",
        "\n",
        "The [`evaluate()`](https://www.tensorflow.org/lite/api_docs/python/tflite_model_maker/object_detector/ObjectDetector#evaluate) method provides output in the style of [COCO evaluation metrics](https://cocodataset.org/#detection-eval):"
      ]
    },
    {
      "cell_type": "code",
      "execution_count": 8,
      "metadata": {
        "id": "8xmnl6Yy7ARn",
        "colab": {
          "base_uri": "https://localhost:8080/"
        },
        "outputId": "b78dbb2a-652f-454a-c879-d5d0c2ce64c6"
      },
      "outputs": [
        {
          "output_type": "stream",
          "name": "stdout",
          "text": [
            "\r1/1 [==============================] - 8s 8s/step\n",
            "\n"
          ]
        },
        {
          "output_type": "execute_result",
          "data": {
            "text/plain": [
              "{'AP': 0.8596617,\n",
              " 'AP50': 1.0,\n",
              " 'AP75': 1.0,\n",
              " 'AP_/:Dampflok': 0.82432514,\n",
              " 'AP_/:Diesellok': 0.89499825,\n",
              " 'APl': -1.0,\n",
              " 'APm': 0.86020523,\n",
              " 'APs': -1.0,\n",
              " 'ARl': -1.0,\n",
              " 'ARm': 0.90384614,\n",
              " 'ARmax1': 0.8769231,\n",
              " 'ARmax10': 0.90384614,\n",
              " 'ARmax100': 0.90384614,\n",
              " 'ARs': -1.0}"
            ]
          },
          "metadata": {},
          "execution_count": 8
        }
      ],
      "source": [
        "model.evaluate(test_data)"
      ]
    },
    {
      "cell_type": "markdown",
      "metadata": {
        "id": "PEon9xd2BDS_"
      },
      "source": [
        "Because the default batch size for [EfficientDetLite models](https://www.tensorflow.org/lite/api_docs/python/tflite_model_maker/object_detector/EfficientDetSpec) is 64, this needs only 1 step to go through all  images in the test set. You can also specify the `batch_size` argument when you call [`evaluate()`](https://www.tensorflow.org/lite/api_docs/python/tflite_model_maker/object_detector/ObjectDetector#evaluate)."
      ]
    },
    {
      "cell_type": "markdown",
      "metadata": {
        "id": "_yB_XMpqGlLs"
      },
      "source": [
        "## Export to TensorFlow Lite"
      ]
    },
    {
      "cell_type": "markdown",
      "metadata": {
        "id": "CgCDMe0e6jlT"
      },
      "source": [
        "Next, we'll export the model to the TensorFlow Lite format. By default, the [`export()`](https://www.tensorflow.org/lite/api_docs/python/tflite_model_maker/object_detector/ObjectDetector#export) method performs [full integer post-training quantization](https://www.tensorflow.org/lite/performance/post_training_quantization#full_integer_quantization), which is exactly what we need for compatibility with the Edge TPU. (Model Maker uses the same dataset we gave to our model spec as a representative dataset, which is required for full-int quantization.)\n",
        "\n",
        "We just need to specify the export directory and format. By default, it exports to TF Lite, but we also want a labels file, so we declare both:"
      ]
    },
    {
      "cell_type": "code",
      "execution_count": 9,
      "metadata": {
        "id": "2Cu9cxX5Qu-e"
      },
      "outputs": [],
      "source": [
        "TFLITE_FILENAME = 'smrc_model.tflite'\n",
        "LABELS_FILENAME = 'railwayLabels.txt'"
      ]
    },
    {
      "cell_type": "code",
      "execution_count": 10,
      "metadata": {
        "id": "rKd6qk7TbxYO"
      },
      "outputs": [],
      "source": [
        "model.export(export_dir='.', tflite_filename=TFLITE_FILENAME, label_filename=LABELS_FILENAME,\n",
        "             export_format=[ExportFormat.TFLITE, ExportFormat.LABEL])"
      ]
    },
    {
      "cell_type": "markdown",
      "metadata": {
        "id": "b94hZ-exOCRB"
      },
      "source": [
        "### Evaluate the TF Lite model"
      ]
    },
    {
      "cell_type": "markdown",
      "metadata": {
        "id": "ZQpahAIBqBPp"
      },
      "source": [
        "Exporting the model to TensorFlow Lite can affect the model accuracy, due to the reduced numerical precision from quantization and because the original TensorFlow model uses per-class [non-max supression (NMS)](https://www.coursera.org/lecture/convolutional-neural-networks/non-max-suppression-dvrjH) for post-processing, while the TF Lite model uses global NMS, which is faster but less accurate.\n",
        "\n",
        "Therefore you should always evaluate the exported TF Lite model and be sure it still meets your requirements:"
      ]
    },
    {
      "cell_type": "code",
      "execution_count": 11,
      "metadata": {
        "id": "RS3Ell_lqH4e",
        "colab": {
          "base_uri": "https://localhost:8080/"
        },
        "outputId": "21fa90e0-7d06-46f7-e450-05af2c055293"
      },
      "outputs": [
        {
          "output_type": "stream",
          "name": "stdout",
          "text": [
            "52/52 [==============================] - 121s 2s/step\n",
            "\n"
          ]
        },
        {
          "output_type": "execute_result",
          "data": {
            "text/plain": [
              "{'AP': 0.8432532,\n",
              " 'AP50': 1.0,\n",
              " 'AP75': 1.0,\n",
              " 'AP_/:Dampflok': 0.8090587,\n",
              " 'AP_/:Diesellok': 0.87744766,\n",
              " 'APl': -1.0,\n",
              " 'APm': 0.8432532,\n",
              " 'APs': -1.0,\n",
              " 'ARl': -1.0,\n",
              " 'ARm': 0.86346155,\n",
              " 'ARmax1': 0.86346155,\n",
              " 'ARmax10': 0.86346155,\n",
              " 'ARmax100': 0.86346155,\n",
              " 'ARs': -1.0}"
            ]
          },
          "metadata": {},
          "execution_count": 11
        }
      ],
      "source": [
        "model.evaluate_tflite(TFLITE_FILENAME, test_data)"
      ]
    },
    {
      "cell_type": "markdown",
      "metadata": {
        "id": "oxgWQyYOqZha"
      },
      "source": [
        "## Compile for the Edge TPU\n"
      ]
    },
    {
      "cell_type": "markdown",
      "metadata": {
        "id": "A0QLiwCj9Pw6"
      },
      "source": [
        "First we need to download the Edge TPU Compiler:"
      ]
    },
    {
      "cell_type": "code",
      "execution_count": 12,
      "metadata": {
        "id": "Oy3QIn_YqaRP",
        "colab": {
          "base_uri": "https://localhost:8080/"
        },
        "outputId": "83b961e6-f86f-40a0-c3d7-a4f6638ed1e9"
      },
      "outputs": [
        {
          "output_type": "stream",
          "name": "stdout",
          "text": [
            "  % Total    % Received % Xferd  Average Speed   Time    Time     Time  Current\n",
            "                                 Dload  Upload   Total   Spent    Left  Speed\n",
            "\r  0     0    0     0    0     0      0      0 --:--:-- --:--:-- --:--:--     0\r100  2537  100  2537    0     0  84566      0 --:--:-- --:--:-- --:--:-- 84566\n",
            "OK\n",
            "deb https://packages.cloud.google.com/apt coral-edgetpu-stable main\n",
            "Get:1 https://packages.cloud.google.com/apt coral-edgetpu-stable InRelease [6,722 B]\n",
            "Hit:2 https://developer.download.nvidia.com/compute/cuda/repos/ubuntu1804/x86_64  InRelease\n",
            "Get:3 https://cloud.r-project.org/bin/linux/ubuntu bionic-cran40/ InRelease [3,626 B]\n",
            "Hit:4 http://archive.ubuntu.com/ubuntu bionic InRelease\n",
            "Get:5 http://archive.ubuntu.com/ubuntu bionic-updates InRelease [88.7 kB]\n",
            "Ign:6 https://packages.cloud.google.com/apt coral-edgetpu-stable/main amd64 Packages\n",
            "Ign:7 https://developer.download.nvidia.com/compute/machine-learning/repos/ubuntu1804/x86_64  InRelease\n",
            "Hit:8 https://developer.download.nvidia.com/compute/machine-learning/repos/ubuntu1804/x86_64  Release\n",
            "Get:9 http://security.ubuntu.com/ubuntu bionic-security InRelease [88.7 kB]\n",
            "Get:10 http://archive.ubuntu.com/ubuntu bionic-backports InRelease [74.6 kB]\n",
            "Get:11 http://ppa.launchpad.net/c2d4u.team/c2d4u4.0+/ubuntu bionic InRelease [15.9 kB]\n",
            "Get:6 https://packages.cloud.google.com/apt coral-edgetpu-stable/main amd64 Packages [2,317 B]\n",
            "Get:13 http://archive.ubuntu.com/ubuntu bionic-updates/restricted amd64 Packages [1,075 kB]\n",
            "Hit:14 http://ppa.launchpad.net/cran/libgit2/ubuntu bionic InRelease\n",
            "Get:15 http://archive.ubuntu.com/ubuntu bionic-updates/universe amd64 Packages [2,298 kB]\n",
            "Get:16 http://security.ubuntu.com/ubuntu bionic-security/restricted amd64 Packages [1,031 kB]\n",
            "Hit:17 http://ppa.launchpad.net/deadsnakes/ppa/ubuntu bionic InRelease\n",
            "Hit:18 http://ppa.launchpad.net/graphics-drivers/ppa/ubuntu bionic InRelease\n",
            "Get:19 http://archive.ubuntu.com/ubuntu bionic-updates/main amd64 Packages [3,302 kB]\n",
            "Get:20 http://ppa.launchpad.net/c2d4u.team/c2d4u4.0+/ubuntu bionic/main Sources [2,075 kB]\n",
            "Get:21 http://ppa.launchpad.net/c2d4u.team/c2d4u4.0+/ubuntu bionic/main amd64 Packages [1,063 kB]\n",
            "Get:22 http://security.ubuntu.com/ubuntu bionic-security/main amd64 Packages [2,871 kB]\n",
            "Fetched 14.0 MB in 4s (3,856 kB/s)\n",
            "Reading package lists... Done\n",
            "Reading package lists... Done\n",
            "Building dependency tree       \n",
            "Reading state information... Done\n",
            "The following package was automatically installed and is no longer required:\n",
            "  libnvidia-common-460\n",
            "Use 'sudo apt autoremove' to remove it.\n",
            "The following NEW packages will be installed:\n",
            "  edgetpu-compiler\n",
            "0 upgraded, 1 newly installed, 0 to remove and 53 not upgraded.\n",
            "Need to get 7,913 kB of archives.\n",
            "After this operation, 31.2 MB of additional disk space will be used.\n",
            "Get:1 https://packages.cloud.google.com/apt coral-edgetpu-stable/main amd64 edgetpu-compiler amd64 16.0 [7,913 kB]\n",
            "Fetched 7,913 kB in 1s (10.6 MB/s)\n",
            "debconf: unable to initialize frontend: Dialog\n",
            "debconf: (No usable dialog-like program is installed, so the dialog based frontend cannot be used. at /usr/share/perl5/Debconf/FrontEnd/Dialog.pm line 76, <> line 1.)\n",
            "debconf: falling back to frontend: Readline\n",
            "debconf: unable to initialize frontend: Readline\n",
            "debconf: (This frontend requires a controlling tty.)\n",
            "debconf: falling back to frontend: Teletype\n",
            "dpkg-preconfigure: unable to re-open stdin: \n",
            "Selecting previously unselected package edgetpu-compiler.\n",
            "(Reading database ... 155639 files and directories currently installed.)\n",
            "Preparing to unpack .../edgetpu-compiler_16.0_amd64.deb ...\n",
            "Unpacking edgetpu-compiler (16.0) ...\n",
            "Setting up edgetpu-compiler (16.0) ...\n",
            "Processing triggers for libc-bin (2.27-3ubuntu1.3) ...\n",
            "/sbin/ldconfig.real: /usr/local/lib/python3.7/dist-packages/ideep4py/lib/libmkldnn.so.0 is not a symbolic link\n",
            "\n"
          ]
        }
      ],
      "source": [
        "! curl https://packages.cloud.google.com/apt/doc/apt-key.gpg | sudo apt-key add -\n",
        "\n",
        "! echo \"deb https://packages.cloud.google.com/apt coral-edgetpu-stable main\" | sudo tee /etc/apt/sources.list.d/coral-edgetpu.list\n",
        "\n",
        "! sudo apt-get update\n",
        "\n",
        "! sudo apt-get install edgetpu-compiler"
      ]
    },
    {
      "cell_type": "markdown",
      "metadata": {
        "id": "qRWewhqFqeL_"
      },
      "source": [
        "Before compiling the `.tflite` file for the Edge TPU, it's important to consider whether your model will fit into the Edge TPU memory. \n",
        "\n",
        "The Edge TPU has approximately 8 MB of SRAM for [caching model paramaters](https://coral.ai/docs/edgetpu/compiler/#parameter-data-caching), so any model close to or over 8 MB will not fit onto the Edge TPU memory. That means the inference times are longer, because some model parameters must be fetched from the host system memory.\n",
        "\n",
        "One way to elimiate the extra latency is to use [model pipelining](https://coral.ai/docs/edgetpu/pipeline/), which splits the model into segments that can run on separate Edge TPUs in series. This can significantly reduce the latency for big models.\n",
        "\n",
        "The following table provides recommendations for the number of Edge TPUs to use with each EfficientDet-Lite model.\n",
        "\n",
        "| Model architecture | Minimum TPUs | Recommended TPUs\n",
        "|--------------------|-------|-------|\n",
        "| EfficientDet-Lite0 | 1     | 1     |\n",
        "| EfficientDet-Lite1 | 1     | 1     |\n",
        "| EfficientDet-Lite2 | 1     | 2     |\n",
        "| EfficientDet-Lite3 | 2     | 2     |\n",
        "| EfficientDet-Lite4 | 2     | 3     |\n",
        "\n",
        "If you need extra Edge TPUs for your model, then update `NUMBER_OF_TPUS` here:"
      ]
    },
    {
      "cell_type": "code",
      "execution_count": 13,
      "metadata": {
        "id": "LZdonJGCqieU",
        "colab": {
          "base_uri": "https://localhost:8080/"
        },
        "outputId": "c8ccbdbb-3d20-42ea-95a1-78863866e2a7"
      },
      "outputs": [
        {
          "output_type": "stream",
          "name": "stdout",
          "text": [
            "Edge TPU Compiler version 16.0.384591198\n",
            "Searching for valid delegate with step 1\n",
            "Try to compile segment with 267 ops\n",
            "Started a compilation timeout timer of 180 seconds.\n",
            "\n",
            "Model compiled successfully in 2731 ms.\n",
            "\n",
            "Input model: smrc_model.tflite\n",
            "Input size: 4.24MiB\n",
            "Output model: smrc_model_edgetpu.tflite\n",
            "Output size: 5.57MiB\n",
            "On-chip memory used for caching model parameters: 4.21MiB\n",
            "On-chip memory remaining for caching model parameters: 3.29MiB\n",
            "Off-chip memory used for streaming uncached model parameters: 0.00B\n",
            "Number of Edge TPU subgraphs: 1\n",
            "Total number of operations: 267\n",
            "Operation log: smrc_model_edgetpu.log\n",
            "\n",
            "Model successfully compiled but not all operations are supported by the Edge TPU. A percentage of the model will instead run on the CPU, which is slower. If possible, consider updating your model to use only operations supported by the Edge TPU. For details, visit g.co/coral/model-reqs.\n",
            "Number of operations that will run on Edge TPU: 264\n",
            "Number of operations that will run on CPU: 3\n",
            "See the operation log file for individual operation details.\n",
            "Compilation child process completed within timeout period.\n",
            "Compilation succeeded! \n"
          ]
        }
      ],
      "source": [
        "NUMBER_OF_TPUS =  1\n",
        "\n",
        "!edgetpu_compiler --min_runtime_version 13 $TFLITE_FILENAME -d --num_segments=$NUMBER_OF_TPUS "
      ]
    },
    {
      "cell_type": "markdown",
      "metadata": {
        "id": "O2CjkduY02DF"
      },
      "source": [
        "**Beware when using multiple segments:** The Edge TPU Comiler divides the model such that all segments have roughly equal amounts of parameter data, but that does not mean all segments have the same latency. Especially when dividing an SSD model such as EfficientDet, this results in a latency-imbalance between segments, because SSD models have a large post-processing op that actually executes on the CPU, not on the Edge TPU. So although segmenting your model this way is better than running the whole model on just one Edge TPU, we recommend that you segment the EfficientDet-Lite model using our [profiling-based partitioner tool](https://github.com/google-coral/libcoral/tree/master/coral/tools/partitioner#profiling-based-partitioner-for-the-edge-tpu-compiler), which measures each segment's latency on the Edge TPU and then iteratively adjusts the segmentation sizes to provide balanced latency between all segments."
      ]
    },
    {
      "cell_type": "markdown",
      "metadata": {
        "id": "KyBBvyqx0XRn"
      },
      "source": [
        "## Download the files"
      ]
    },
    {
      "cell_type": "code",
      "execution_count": 14,
      "metadata": {
        "id": "M43URVgg0ZcB",
        "colab": {
          "base_uri": "https://localhost:8080/",
          "height": 17
        },
        "outputId": "d8ca3eab-f626-46d1-d2c0-fa926e373b30"
      },
      "outputs": [
        {
          "output_type": "display_data",
          "data": {
            "text/plain": [
              "<IPython.core.display.Javascript object>"
            ],
            "application/javascript": [
              "\n",
              "    async function download(id, filename, size) {\n",
              "      if (!google.colab.kernel.accessAllowed) {\n",
              "        return;\n",
              "      }\n",
              "      const div = document.createElement('div');\n",
              "      const label = document.createElement('label');\n",
              "      label.textContent = `Downloading \"${filename}\": `;\n",
              "      div.appendChild(label);\n",
              "      const progress = document.createElement('progress');\n",
              "      progress.max = size;\n",
              "      div.appendChild(progress);\n",
              "      document.body.appendChild(div);\n",
              "\n",
              "      const buffers = [];\n",
              "      let downloaded = 0;\n",
              "\n",
              "      const channel = await google.colab.kernel.comms.open(id);\n",
              "      // Send a message to notify the kernel that we're ready.\n",
              "      channel.send({})\n",
              "\n",
              "      for await (const message of channel.messages) {\n",
              "        // Send a message to notify the kernel that we're ready.\n",
              "        channel.send({})\n",
              "        if (message.buffers) {\n",
              "          for (const buffer of message.buffers) {\n",
              "            buffers.push(buffer);\n",
              "            downloaded += buffer.byteLength;\n",
              "            progress.value = downloaded;\n",
              "          }\n",
              "        }\n",
              "      }\n",
              "      const blob = new Blob(buffers, {type: 'application/binary'});\n",
              "      const a = document.createElement('a');\n",
              "      a.href = window.URL.createObjectURL(blob);\n",
              "      a.download = filename;\n",
              "      div.appendChild(a);\n",
              "      a.click();\n",
              "      div.remove();\n",
              "    }\n",
              "  "
            ]
          },
          "metadata": {}
        },
        {
          "output_type": "display_data",
          "data": {
            "text/plain": [
              "<IPython.core.display.Javascript object>"
            ],
            "application/javascript": [
              "download(\"download_dce31a5e-6b38-4066-8b9e-223156cab6c2\", \"smrc_model_edgetpu.tflite\", 5842624)"
            ]
          },
          "metadata": {}
        },
        {
          "output_type": "display_data",
          "data": {
            "text/plain": [
              "<IPython.core.display.Javascript object>"
            ],
            "application/javascript": [
              "\n",
              "    async function download(id, filename, size) {\n",
              "      if (!google.colab.kernel.accessAllowed) {\n",
              "        return;\n",
              "      }\n",
              "      const div = document.createElement('div');\n",
              "      const label = document.createElement('label');\n",
              "      label.textContent = `Downloading \"${filename}\": `;\n",
              "      div.appendChild(label);\n",
              "      const progress = document.createElement('progress');\n",
              "      progress.max = size;\n",
              "      div.appendChild(progress);\n",
              "      document.body.appendChild(div);\n",
              "\n",
              "      const buffers = [];\n",
              "      let downloaded = 0;\n",
              "\n",
              "      const channel = await google.colab.kernel.comms.open(id);\n",
              "      // Send a message to notify the kernel that we're ready.\n",
              "      channel.send({})\n",
              "\n",
              "      for await (const message of channel.messages) {\n",
              "        // Send a message to notify the kernel that we're ready.\n",
              "        channel.send({})\n",
              "        if (message.buffers) {\n",
              "          for (const buffer of message.buffers) {\n",
              "            buffers.push(buffer);\n",
              "            downloaded += buffer.byteLength;\n",
              "            progress.value = downloaded;\n",
              "          }\n",
              "        }\n",
              "      }\n",
              "      const blob = new Blob(buffers, {type: 'application/binary'});\n",
              "      const a = document.createElement('a');\n",
              "      a.href = window.URL.createObjectURL(blob);\n",
              "      a.download = filename;\n",
              "      div.appendChild(a);\n",
              "      a.click();\n",
              "      div.remove();\n",
              "    }\n",
              "  "
            ]
          },
          "metadata": {}
        },
        {
          "output_type": "display_data",
          "data": {
            "text/plain": [
              "<IPython.core.display.Javascript object>"
            ],
            "application/javascript": [
              "download(\"download_10f63423-9550-4b3b-976e-c364d01b46d0\", \"railwayLabels.txt\", 21)"
            ]
          },
          "metadata": {}
        }
      ],
      "source": [
        "from google.colab import files\n",
        "#Download model and label file for edge TPU (Coral USB Accelerator)\n",
        "files.download(TFLITE_FILENAME.replace('.tflite', '_edgetpu.tflite'))\n",
        "files.download(LABELS_FILENAME)"
      ]
    },
    {
      "cell_type": "markdown",
      "metadata": {
        "id": "HS4u77W5gnzQ"
      },
      "source": [
        "## More resources\n",
        "\n",
        "* For more information about the Model Maker library used in this tutorial, see the [TensorFlow Lite Model Maker guide](https://www.tensorflow.org/lite/guide/model_maker) and [API reference](https://www.tensorflow.org/lite/api_docs/python/tflite_model_maker).\n",
        "\n",
        "* For other transfer learning tutorials that are compatible with the Edge TPU, see the [Colab tutorials for Coral](https://github.com/google-coral/tutorials#colab-tutorials-for-coral).\n",
        "\n",
        "* You can also find more examples that show how to run inference on the Edge TPU at [coral.ai/examples](https://coral.ai/examples/#code-examples/)."
      ]
    }
  ],
  "metadata": {
    "accelerator": "GPU",
    "colab": {
      "collapsed_sections": [],
      "name": "trainSMRC",
      "provenance": []
    },
    "kernelspec": {
      "display_name": "Python 3",
      "name": "python3"
    }
  },
  "nbformat": 4,
  "nbformat_minor": 0
}