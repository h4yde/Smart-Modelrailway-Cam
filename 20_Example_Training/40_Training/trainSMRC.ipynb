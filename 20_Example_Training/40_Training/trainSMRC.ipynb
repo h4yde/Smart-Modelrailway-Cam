{
  "cells": [
    {
      "cell_type": "markdown",
      "metadata": {
        "id": "Gb7qyhNL1yWt"
      },
      "source": [
        "# Retrain EfficientDet-Lite0 Model for the \"Modelrailway-Cam\""
      ]
    },
    {
      "cell_type": "markdown",
      "metadata": {
        "id": "sr3q-gvm3cI8"
      },
      "source": [
        "In this jupyter-notebook, we'll retrain an EfficientDet-Lite object detection model (derived from [EfficientDet](https://ai.googleblog.com/2020/04/efficientdet-towards-scalable-and.html)) using the [TensorFlow Lite Model Maker library](https://www.tensorflow.org/lite/guide/model_maker), and then compile it to run on the [Coral Edge TPU](https://www.coral.ai/products/). All in about 10 minutes on a GPU. Please change runtime type (Laufzeittyp) to \"GPU\" in the menue.\n",
        "\n",
        "This notebook retrains the model using images of a modelrailway showing locomotives and waggons. It is an adapted version of the original notebook: [Train a salad detector with TFLite Model Maker - Colaboratory (google.com)](https://colab.research.google.com/github/googlecodelabs/odml-pathways/blob/main/object-detection/codelab2/python/Train_a_salad_detector_with_TFLite_Model_Maker.ipynb)"
      ]
    },
    {
      "cell_type": "code",
      "source": [
        "#@title\n",
        "# -*- coding: utf-8 -*-"
      ],
      "metadata": {
        "id": "IgYinplOpkKK",
        "cellView": "form"
      },
      "execution_count": 1,
      "outputs": []
    },
    {
      "cell_type": "code",
      "execution_count": 2,
      "metadata": {
        "cellView": "form",
        "id": "rKwqeqWBXANA"
      },
      "outputs": [],
      "source": [
        "#@title\n",
        "# Licensed under the Apache License, Version 2.0 (the \"License\");\n",
        "# you may not use this file except in compliance with the License.\n",
        "# You may obtain a copy of the License at\n",
        "#\n",
        "# https://www.apache.org/licenses/LICENSE-2.0\n",
        "#\n",
        "# Unless required by applicable law or agreed to in writing, software\n",
        "# distributed under the License is distributed on an \"AS IS\" BASIS,\n",
        "# WITHOUT WARRANTIES OR CONDITIONS OF ANY KIND, either express or implied.\n",
        "# See the License for the specific language governing permissions and\n",
        "# limitations under the License."
      ]
    },
    {
      "cell_type": "code",
      "source": [
        "#Use your google drive for this notebook. Follow messages on scren.\n",
        "from google.colab import drive\n",
        "drive.mount('/content/drive')"
      ],
      "metadata": {
        "id": "s80ycacXldoa",
        "colab": {
          "base_uri": "https://localhost:8080/"
        },
        "outputId": "07c680fe-1dc1-494f-c755-47770904578d"
      },
      "execution_count": 3,
      "outputs": [
        {
          "output_type": "stream",
          "name": "stdout",
          "text": [
            "Mounted at /content/drive\n"
          ]
        }
      ]
    },
    {
      "cell_type": "markdown",
      "metadata": {
        "id": "PzoNZRp4sVxK"
      },
      "source": [
        "The training data used must be present in the path /content/drive/MyDrive/TrainData\n"
      ]
    },
    {
      "cell_type": "markdown",
      "metadata": {
        "id": "2vvAObmTqglq"
      },
      "source": [
        "## Import the required packages"
      ]
    },
    {
      "cell_type": "code",
      "execution_count": 4,
      "metadata": {
        "id": "qhl8lqVamEty",
        "colab": {
          "base_uri": "https://localhost:8080/"
        },
        "outputId": "97211ce1-30bf-4e3b-d18a-c7da05e56896"
      },
      "outputs": [
        {
          "output_type": "stream",
          "name": "stdout",
          "text": [
            "\u001b[K     |████████████████████████████████| 642 kB 5.1 MB/s \n",
            "\u001b[K     |████████████████████████████████| 55.1 MB 144 kB/s \n",
            "\u001b[K     |████████████████████████████████| 3.4 MB 57.8 MB/s \n",
            "\u001b[K     |████████████████████████████████| 1.1 MB 62.9 MB/s \n",
            "\u001b[K     |████████████████████████████████| 77 kB 6.0 MB/s \n",
            "\u001b[K     |████████████████████████████████| 120 kB 72.8 MB/s \n",
            "\u001b[K     |████████████████████████████████| 6.4 MB 55.0 MB/s \n",
            "\u001b[K     |████████████████████████████████| 237 kB 54.6 MB/s \n",
            "\u001b[K     |████████████████████████████████| 840 kB 73.9 MB/s \n",
            "\u001b[K     |████████████████████████████████| 10.9 MB 29.2 MB/s \n",
            "\u001b[K     |████████████████████████████████| 1.2 MB 65.4 MB/s \n",
            "\u001b[K     |████████████████████████████████| 596 kB 68.0 MB/s \n",
            "\u001b[K     |████████████████████████████████| 87 kB 7.4 MB/s \n",
            "\u001b[K     |████████████████████████████████| 25.3 MB 1.2 MB/s \n",
            "\u001b[K     |████████████████████████████████| 99 kB 11.3 MB/s \n",
            "\u001b[K     |████████████████████████████████| 352 kB 68.0 MB/s \n",
            "\u001b[K     |████████████████████████████████| 48.3 MB 118 kB/s \n",
            "\u001b[K     |████████████████████████████████| 40 kB 6.6 MB/s \n",
            "\u001b[K     |████████████████████████████████| 213 kB 69.3 MB/s \n",
            "\u001b[K     |████████████████████████████████| 1.1 MB 63.1 MB/s \n",
            "\u001b[K     |████████████████████████████████| 55.1 MB 64 kB/s \n",
            "\u001b[K     |████████████████████████████████| 55.1 MB 68 kB/s \n",
            "\u001b[K     |████████████████████████████████| 42.6 MB 1.2 MB/s \n",
            "\u001b[K     |████████████████████████████████| 42.6 MB 1.3 MB/s \n",
            "\u001b[K     |████████████████████████████████| 42.6 MB 1.4 MB/s \n",
            "\u001b[K     |████████████████████████████████| 42.6 MB 1.5 MB/s \n",
            "\u001b[K     |████████████████████████████████| 42.6 MB 1.3 MB/s \n",
            "\u001b[K     |████████████████████████████████| 42.6 MB 1.3 MB/s \n",
            "\u001b[K     |████████████████████████████████| 42.6 MB 1.5 MB/s \n",
            "\u001b[K     |████████████████████████████████| 42.6 MB 1.5 MB/s \n",
            "\u001b[K     |████████████████████████████████| 42.6 MB 1.2 MB/s \n",
            "\u001b[K     |████████████████████████████████| 42.6 MB 1.3 MB/s \n",
            "\u001b[K     |████████████████████████████████| 42.6 MB 1.4 MB/s \n",
            "\u001b[K     |████████████████████████████████| 42.6 MB 1.2 MB/s \n",
            "\u001b[K     |████████████████████████████████| 42.6 MB 1.5 MB/s \n",
            "\u001b[K     |████████████████████████████████| 42.6 MB 1.3 MB/s \n",
            "\u001b[K     |████████████████████████████████| 42.6 MB 1.3 MB/s \n",
            "\u001b[K     |████████████████████████████████| 42.5 MB 1.3 MB/s \n",
            "\u001b[?25h  Building wheel for fire (setup.py) ... \u001b[?25l\u001b[?25hdone\n",
            "  Building wheel for py-cpuinfo (setup.py) ... \u001b[?25l\u001b[?25hdone\n",
            "\u001b[31mERROR: pip's dependency resolver does not currently take into account all the packages that are installed. This behaviour is the source of the following dependency conflicts.\n",
            "datascience 0.10.6 requires folium==0.2.1, but you have folium 0.8.3 which is incompatible.\u001b[0m\n",
            "\u001b[K     |████████████████████████████████| 42.5 MB 10.1 MB/s \n",
            "\u001b[?25h"
          ]
        }
      ],
      "source": [
        "!pip install -q tflite-model-maker\n",
        "!pip install -q pycocotools\n",
        "!pip install -q tflite-support"
      ]
    },
    {
      "cell_type": "code",
      "execution_count": 5,
      "metadata": {
        "id": "XtxiUeZEiXpt"
      },
      "outputs": [],
      "source": [
        "import numpy as np\n",
        "import os\n",
        "\n",
        "from tflite_model_maker.config import ExportFormat\n",
        "from tflite_model_maker import model_spec\n",
        "from tflite_model_maker import object_detector\n",
        "\n",
        "import tensorflow as tf\n",
        "assert tf.__version__.startswith('2')\n",
        "\n",
        "tf.get_logger().setLevel('ERROR')\n",
        "from absl import logging\n",
        "logging.set_verbosity(logging.ERROR)"
      ]
    },
    {
      "cell_type": "markdown",
      "metadata": {
        "id": "H0XM-oIfhgQ7"
      },
      "source": [
        "## Load the training data\n"
      ]
    },
    {
      "cell_type": "markdown",
      "metadata": {
        "id": "-9VoZ_Rud2V3"
      },
      "source": [
        "### Load the training data set by using training.csv"
      ]
    },
    {
      "cell_type": "markdown",
      "metadata": {
        "id": "BRd13bfetO7B"
      },
      "source": [
        "\n",
        "\n",
        "Model Maker requires that we load our dataset using the [`DataLoader`](https://www.tensorflow.org/lite/api_docs/python/tflite_model_maker/object_detector/DataLoader) API. So in this case, we'll load it from a CSV file that defines the images for training, images for validation, and images for testing. At the start change directory  to the Data directory.\n",
        "\n",
        "\n"
      ]
    },
    {
      "cell_type": "code",
      "execution_count": 6,
      "metadata": {
        "id": "04ObtdneqvP5",
        "colab": {
          "base_uri": "https://localhost:8080/"
        },
        "outputId": "4524add6-35de-4c5a-9471-9ba41b9bf82b"
      },
      "outputs": [
        {
          "output_type": "stream",
          "name": "stdout",
          "text": [
            "/content/drive/MyDrive/TrainData\n"
          ]
        }
      ],
      "source": [
        "#Load the CSV file from your Google Drive.\n",
        "%cd drive/MyDrive/TrainData\n",
        "train_data, validation_data, test_data = object_detector.DataLoader.from_csv('training.csv')"
      ]
    },
    {
      "cell_type": "markdown",
      "metadata": {
        "id": "S8clx0KPutCM"
      },
      "source": [
        "## Select the model spec"
      ]
    },
    {
      "cell_type": "markdown",
      "metadata": {
        "id": "vn61LJ9QbOPi"
      },
      "source": [
        "Model Maker supports the EfficientDet-Lite family of object detection models that are compatible with the Edge TPU. (EfficientDet-Lite is derived from [EfficientDet](https://ai.googleblog.com/2020/04/efficientdet-towards-scalable-and.html), which offers state-of-the-art accuracy in a small model size). There are several model sizes you can choose from:\n",
        "\n",
        "|| Model architecture | Size(MB)* | Latency(ms)** | Average Precision*** |\n",
        "|-|--------------------|-----------|---------------|----------------------|\n",
        "|| EfficientDet-Lite0 | 5.7       | 37.4            | 30.4%               |\n",
        "|| EfficientDet-Lite1 | 7.6       | 56.3            | 34.3%               |\n",
        "|| EfficientDet-Lite2 | 10.2      | 104.6           | 36.0%               |\n",
        "|| EfficientDet-Lite3 | 14.4      | 107.6           | 39.4%               |\n",
        "| <td colspan=4><br><i>* File size of the compiled Edge TPU models. <br/>** Latency measured on a desktop CPU with a Coral USB Accelerator. <br/>*** Average Precision is the mAP (mean Average Precision) on the COCO 2017 validation dataset.</i></td> |\n",
        "\n",
        "Beware that the Lite2 and Lite3 models do not fit onto the Edge TPU's onboard memory, so you'll see even greater latency when using those, due to the cost of fetching data from the host system memory. Maybe this extra latency is okay for your application, but if it's not and you require the precision of the larger models, then you can [pipeline the model across multiple Edge TPUs](https://coral.ai/docs/edgetpu/pipeline/) (more about this when we compile the model below).\n",
        "\n",
        "For the modelrailway-cam, we'll use Lite0:"
      ]
    },
    {
      "cell_type": "code",
      "execution_count": 7,
      "metadata": {
        "id": "SM9gePHw9Jv1"
      },
      "outputs": [],
      "source": [
        "spec = object_detector.EfficientDetLite0Spec()"
      ]
    },
    {
      "cell_type": "markdown",
      "metadata": {
        "id": "5qjq2UEHCLUi"
      },
      "source": [
        "## Create and train the model"
      ]
    },
    {
      "cell_type": "markdown",
      "metadata": {
        "id": "2uZkLR6N6gDR"
      },
      "source": [
        "Now we need to create our model according to the model spec, load our dataset into the model, specify training parameters, and begin training. \n",
        "\n",
        "Using Model Maker, we accomplished all of that with [`create()`](https://www.tensorflow.org/lite/api_docs/python/tflite_model_maker/object_detector/create):"
      ]
    },
    {
      "cell_type": "code",
      "execution_count": 8,
      "metadata": {
        "id": "kwlYdTcg63xy",
        "colab": {
          "base_uri": "https://localhost:8080/"
        },
        "outputId": "a54a5185-80c8-444a-c78a-b132d06378f2"
      },
      "outputs": [
        {
          "output_type": "stream",
          "name": "stdout",
          "text": [
            "Epoch 1/40\n",
            "46/46 [==============================] - 55s 305ms/step - det_loss: 1.3742 - cls_loss: 0.8220 - box_loss: 0.0110 - reg_l2_loss: 0.0630 - loss: 1.4372 - learning_rate: 0.0090 - gradient_norm: 2.4682 - val_det_loss: 0.9057 - val_cls_loss: 0.6127 - val_box_loss: 0.0059 - val_reg_l2_loss: 0.0630 - val_loss: 0.9688\n",
            "Epoch 2/40\n",
            "46/46 [==============================] - 11s 246ms/step - det_loss: 0.6453 - cls_loss: 0.3244 - box_loss: 0.0064 - reg_l2_loss: 0.0631 - loss: 0.7084 - learning_rate: 0.0100 - gradient_norm: 2.9727 - val_det_loss: 0.3519 - val_cls_loss: 0.2045 - val_box_loss: 0.0029 - val_reg_l2_loss: 0.0631 - val_loss: 0.4150\n",
            "Epoch 3/40\n",
            "46/46 [==============================] - 12s 251ms/step - det_loss: 0.4469 - cls_loss: 0.2539 - box_loss: 0.0039 - reg_l2_loss: 0.0631 - loss: 0.5100 - learning_rate: 0.0099 - gradient_norm: 2.7947 - val_det_loss: 0.3168 - val_cls_loss: 0.1817 - val_box_loss: 0.0027 - val_reg_l2_loss: 0.0631 - val_loss: 0.3799\n",
            "Epoch 4/40\n",
            "46/46 [==============================] - 12s 263ms/step - det_loss: 0.3671 - cls_loss: 0.2082 - box_loss: 0.0032 - reg_l2_loss: 0.0632 - loss: 0.4303 - learning_rate: 0.0098 - gradient_norm: 3.0070 - val_det_loss: 0.2869 - val_cls_loss: 0.1739 - val_box_loss: 0.0023 - val_reg_l2_loss: 0.0632 - val_loss: 0.3501\n",
            "Epoch 5/40\n",
            "46/46 [==============================] - 18s 389ms/step - det_loss: 0.3469 - cls_loss: 0.2012 - box_loss: 0.0029 - reg_l2_loss: 0.0632 - loss: 0.4101 - learning_rate: 0.0097 - gradient_norm: 2.4319 - val_det_loss: 0.2859 - val_cls_loss: 0.1589 - val_box_loss: 0.0025 - val_reg_l2_loss: 0.0632 - val_loss: 0.3491\n",
            "Epoch 6/40\n",
            "46/46 [==============================] - 12s 250ms/step - det_loss: 0.3297 - cls_loss: 0.1808 - box_loss: 0.0030 - reg_l2_loss: 0.0632 - loss: 0.3930 - learning_rate: 0.0095 - gradient_norm: 2.5931 - val_det_loss: 0.2205 - val_cls_loss: 0.1325 - val_box_loss: 0.0018 - val_reg_l2_loss: 0.0633 - val_loss: 0.2837\n",
            "Epoch 7/40\n",
            "46/46 [==============================] - 12s 253ms/step - det_loss: 0.3608 - cls_loss: 0.1878 - box_loss: 0.0035 - reg_l2_loss: 0.0633 - loss: 0.4241 - learning_rate: 0.0093 - gradient_norm: 2.8566 - val_det_loss: 0.2601 - val_cls_loss: 0.1445 - val_box_loss: 0.0023 - val_reg_l2_loss: 0.0633 - val_loss: 0.3234\n",
            "Epoch 8/40\n",
            "46/46 [==============================] - 12s 266ms/step - det_loss: 0.2565 - cls_loss: 0.1542 - box_loss: 0.0020 - reg_l2_loss: 0.0633 - loss: 0.3198 - learning_rate: 0.0091 - gradient_norm: 2.2087 - val_det_loss: 0.2415 - val_cls_loss: 0.1485 - val_box_loss: 0.0019 - val_reg_l2_loss: 0.0633 - val_loss: 0.3048\n",
            "Epoch 9/40\n",
            "46/46 [==============================] - 12s 251ms/step - det_loss: 0.2892 - cls_loss: 0.1640 - box_loss: 0.0025 - reg_l2_loss: 0.0633 - loss: 0.3525 - learning_rate: 0.0089 - gradient_norm: 2.4509 - val_det_loss: 0.2929 - val_cls_loss: 0.1995 - val_box_loss: 0.0019 - val_reg_l2_loss: 0.0633 - val_loss: 0.3562\n",
            "Epoch 10/40\n",
            "46/46 [==============================] - 13s 287ms/step - det_loss: 0.2377 - cls_loss: 0.1449 - box_loss: 0.0019 - reg_l2_loss: 0.0633 - loss: 0.3010 - learning_rate: 0.0086 - gradient_norm: 1.9862 - val_det_loss: 0.2672 - val_cls_loss: 0.1996 - val_box_loss: 0.0014 - val_reg_l2_loss: 0.0633 - val_loss: 0.3306\n",
            "Epoch 11/40\n",
            "46/46 [==============================] - 12s 257ms/step - det_loss: 0.2325 - cls_loss: 0.1409 - box_loss: 0.0018 - reg_l2_loss: 0.0633 - loss: 0.2958 - learning_rate: 0.0083 - gradient_norm: 1.9722 - val_det_loss: 0.2324 - val_cls_loss: 0.1377 - val_box_loss: 0.0019 - val_reg_l2_loss: 0.0633 - val_loss: 0.2958\n",
            "Epoch 12/40\n",
            "46/46 [==============================] - 12s 266ms/step - det_loss: 0.2435 - cls_loss: 0.1476 - box_loss: 0.0019 - reg_l2_loss: 0.0633 - loss: 0.3068 - learning_rate: 0.0080 - gradient_norm: 2.1126 - val_det_loss: 0.1860 - val_cls_loss: 0.1357 - val_box_loss: 0.0010 - val_reg_l2_loss: 0.0633 - val_loss: 0.2493\n",
            "Epoch 13/40\n",
            "46/46 [==============================] - 12s 253ms/step - det_loss: 0.2255 - cls_loss: 0.1388 - box_loss: 0.0017 - reg_l2_loss: 0.0633 - loss: 0.2888 - learning_rate: 0.0077 - gradient_norm: 2.1159 - val_det_loss: 0.1483 - val_cls_loss: 0.1098 - val_box_loss: 7.7066e-04 - val_reg_l2_loss: 0.0633 - val_loss: 0.2117\n",
            "Epoch 14/40\n",
            "46/46 [==============================] - 12s 253ms/step - det_loss: 0.2149 - cls_loss: 0.1350 - box_loss: 0.0016 - reg_l2_loss: 0.0633 - loss: 0.2782 - learning_rate: 0.0073 - gradient_norm: 1.9404 - val_det_loss: 0.2094 - val_cls_loss: 0.1311 - val_box_loss: 0.0016 - val_reg_l2_loss: 0.0633 - val_loss: 0.2727\n",
            "Epoch 15/40\n",
            "46/46 [==============================] - 13s 288ms/step - det_loss: 0.2248 - cls_loss: 0.1422 - box_loss: 0.0017 - reg_l2_loss: 0.0633 - loss: 0.2881 - learning_rate: 0.0070 - gradient_norm: 2.2699 - val_det_loss: 0.1529 - val_cls_loss: 0.1108 - val_box_loss: 8.4106e-04 - val_reg_l2_loss: 0.0633 - val_loss: 0.2162\n",
            "Epoch 16/40\n",
            "46/46 [==============================] - 12s 267ms/step - det_loss: 0.2102 - cls_loss: 0.1338 - box_loss: 0.0015 - reg_l2_loss: 0.0633 - loss: 0.2735 - learning_rate: 0.0066 - gradient_norm: 1.8927 - val_det_loss: 0.1464 - val_cls_loss: 0.0977 - val_box_loss: 9.7482e-04 - val_reg_l2_loss: 0.0633 - val_loss: 0.2098\n",
            "Epoch 17/40\n",
            "46/46 [==============================] - 12s 257ms/step - det_loss: 0.1911 - cls_loss: 0.1222 - box_loss: 0.0014 - reg_l2_loss: 0.0633 - loss: 0.2545 - learning_rate: 0.0062 - gradient_norm: 1.8408 - val_det_loss: 0.1791 - val_cls_loss: 0.1230 - val_box_loss: 0.0011 - val_reg_l2_loss: 0.0633 - val_loss: 0.2424\n",
            "Epoch 18/40\n",
            "46/46 [==============================] - 12s 257ms/step - det_loss: 0.1920 - cls_loss: 0.1200 - box_loss: 0.0014 - reg_l2_loss: 0.0633 - loss: 0.2554 - learning_rate: 0.0058 - gradient_norm: 1.8441 - val_det_loss: 0.1817 - val_cls_loss: 0.1392 - val_box_loss: 8.5050e-04 - val_reg_l2_loss: 0.0633 - val_loss: 0.2450\n",
            "Epoch 19/40\n",
            "46/46 [==============================] - 13s 277ms/step - det_loss: 0.1987 - cls_loss: 0.1264 - box_loss: 0.0014 - reg_l2_loss: 0.0633 - loss: 0.2620 - learning_rate: 0.0054 - gradient_norm: 1.9984 - val_det_loss: 0.1878 - val_cls_loss: 0.1485 - val_box_loss: 7.8669e-04 - val_reg_l2_loss: 0.0633 - val_loss: 0.2512\n",
            "Epoch 20/40\n",
            "46/46 [==============================] - 14s 298ms/step - det_loss: 0.1947 - cls_loss: 0.1215 - box_loss: 0.0015 - reg_l2_loss: 0.0633 - loss: 0.2580 - learning_rate: 0.0050 - gradient_norm: 1.8985 - val_det_loss: 0.1727 - val_cls_loss: 0.1033 - val_box_loss: 0.0014 - val_reg_l2_loss: 0.0633 - val_loss: 0.2360\n",
            "Epoch 21/40\n",
            "46/46 [==============================] - 12s 252ms/step - det_loss: 0.1947 - cls_loss: 0.1280 - box_loss: 0.0013 - reg_l2_loss: 0.0633 - loss: 0.2581 - learning_rate: 0.0046 - gradient_norm: 1.9083 - val_det_loss: 0.1420 - val_cls_loss: 0.1043 - val_box_loss: 7.5420e-04 - val_reg_l2_loss: 0.0633 - val_loss: 0.2054\n",
            "Epoch 22/40\n",
            "46/46 [==============================] - 12s 254ms/step - det_loss: 0.1779 - cls_loss: 0.1143 - box_loss: 0.0013 - reg_l2_loss: 0.0633 - loss: 0.2413 - learning_rate: 0.0042 - gradient_norm: 1.8524 - val_det_loss: 0.1341 - val_cls_loss: 0.0882 - val_box_loss: 9.1790e-04 - val_reg_l2_loss: 0.0633 - val_loss: 0.1975\n",
            "Epoch 23/40\n",
            "46/46 [==============================] - 12s 255ms/step - det_loss: 0.1829 - cls_loss: 0.1142 - box_loss: 0.0014 - reg_l2_loss: 0.0633 - loss: 0.2462 - learning_rate: 0.0038 - gradient_norm: 1.9075 - val_det_loss: 0.1345 - val_cls_loss: 0.0888 - val_box_loss: 9.1309e-04 - val_reg_l2_loss: 0.0633 - val_loss: 0.1978\n",
            "Epoch 24/40\n",
            "46/46 [==============================] - 12s 266ms/step - det_loss: 0.1566 - cls_loss: 0.1029 - box_loss: 0.0011 - reg_l2_loss: 0.0633 - loss: 0.2199 - learning_rate: 0.0034 - gradient_norm: 1.6686 - val_det_loss: 0.1277 - val_cls_loss: 0.0931 - val_box_loss: 6.9248e-04 - val_reg_l2_loss: 0.0633 - val_loss: 0.1910\n",
            "Epoch 25/40\n",
            "46/46 [==============================] - 13s 288ms/step - det_loss: 0.1673 - cls_loss: 0.1099 - box_loss: 0.0011 - reg_l2_loss: 0.0633 - loss: 0.2306 - learning_rate: 0.0030 - gradient_norm: 1.6741 - val_det_loss: 0.1300 - val_cls_loss: 0.0975 - val_box_loss: 6.5013e-04 - val_reg_l2_loss: 0.0633 - val_loss: 0.1933\n",
            "Epoch 26/40\n",
            "46/46 [==============================] - 12s 254ms/step - det_loss: 0.1589 - cls_loss: 0.1093 - box_loss: 9.9248e-04 - reg_l2_loss: 0.0633 - loss: 0.2222 - learning_rate: 0.0027 - gradient_norm: 1.7062 - val_det_loss: 0.1314 - val_cls_loss: 0.0975 - val_box_loss: 6.7945e-04 - val_reg_l2_loss: 0.0633 - val_loss: 0.1948\n",
            "Epoch 27/40\n",
            "46/46 [==============================] - 12s 256ms/step - det_loss: 0.1635 - cls_loss: 0.1093 - box_loss: 0.0011 - reg_l2_loss: 0.0633 - loss: 0.2268 - learning_rate: 0.0023 - gradient_norm: 1.7170 - val_det_loss: 0.1280 - val_cls_loss: 0.0948 - val_box_loss: 6.6549e-04 - val_reg_l2_loss: 0.0633 - val_loss: 0.1914\n",
            "Epoch 28/40\n",
            "46/46 [==============================] - 12s 268ms/step - det_loss: 0.1517 - cls_loss: 0.1028 - box_loss: 9.7823e-04 - reg_l2_loss: 0.0633 - loss: 0.2150 - learning_rate: 0.0020 - gradient_norm: 1.6232 - val_det_loss: 0.1230 - val_cls_loss: 0.0886 - val_box_loss: 6.8817e-04 - val_reg_l2_loss: 0.0633 - val_loss: 0.1863\n",
            "Epoch 29/40\n",
            "46/46 [==============================] - 12s 258ms/step - det_loss: 0.1520 - cls_loss: 0.1005 - box_loss: 0.0010 - reg_l2_loss: 0.0633 - loss: 0.2153 - learning_rate: 0.0017 - gradient_norm: 1.5896 - val_det_loss: 0.1062 - val_cls_loss: 0.0796 - val_box_loss: 5.3222e-04 - val_reg_l2_loss: 0.0633 - val_loss: 0.1695\n",
            "Epoch 30/40\n",
            "46/46 [==============================] - 13s 285ms/step - det_loss: 0.1456 - cls_loss: 0.0973 - box_loss: 9.6612e-04 - reg_l2_loss: 0.0633 - loss: 0.2089 - learning_rate: 0.0014 - gradient_norm: 1.6642 - val_det_loss: 0.1166 - val_cls_loss: 0.0861 - val_box_loss: 6.0978e-04 - val_reg_l2_loss: 0.0633 - val_loss: 0.1799\n",
            "Epoch 31/40\n",
            "46/46 [==============================] - 12s 258ms/step - det_loss: 0.1431 - cls_loss: 0.0983 - box_loss: 8.9452e-04 - reg_l2_loss: 0.0633 - loss: 0.2064 - learning_rate: 0.0011 - gradient_norm: 1.5914 - val_det_loss: 0.1165 - val_cls_loss: 0.0830 - val_box_loss: 6.6960e-04 - val_reg_l2_loss: 0.0633 - val_loss: 0.1798\n",
            "Epoch 32/40\n",
            "46/46 [==============================] - 12s 266ms/step - det_loss: 0.1425 - cls_loss: 0.0970 - box_loss: 9.1121e-04 - reg_l2_loss: 0.0633 - loss: 0.2058 - learning_rate: 8.8634e-04 - gradient_norm: 1.6363 - val_det_loss: 0.1112 - val_cls_loss: 0.0821 - val_box_loss: 5.8091e-04 - val_reg_l2_loss: 0.0633 - val_loss: 0.1745\n",
            "Epoch 33/40\n",
            "46/46 [==============================] - 12s 252ms/step - det_loss: 0.1624 - cls_loss: 0.1090 - box_loss: 0.0011 - reg_l2_loss: 0.0633 - loss: 0.2257 - learning_rate: 6.7118e-04 - gradient_norm: 1.8803 - val_det_loss: 0.1132 - val_cls_loss: 0.0834 - val_box_loss: 5.9543e-04 - val_reg_l2_loss: 0.0633 - val_loss: 0.1765\n",
            "Epoch 34/40\n",
            "46/46 [==============================] - 12s 257ms/step - det_loss: 0.1474 - cls_loss: 0.1008 - box_loss: 9.3223e-04 - reg_l2_loss: 0.0633 - loss: 0.2107 - learning_rate: 4.8410e-04 - gradient_norm: 1.6175 - val_det_loss: 0.1147 - val_cls_loss: 0.0823 - val_box_loss: 6.4955e-04 - val_reg_l2_loss: 0.0633 - val_loss: 0.1780\n",
            "Epoch 35/40\n",
            "46/46 [==============================] - 13s 285ms/step - det_loss: 0.1535 - cls_loss: 0.1039 - box_loss: 9.9109e-04 - reg_l2_loss: 0.0633 - loss: 0.2168 - learning_rate: 3.2630e-04 - gradient_norm: 1.7301 - val_det_loss: 0.1106 - val_cls_loss: 0.0810 - val_box_loss: 5.9278e-04 - val_reg_l2_loss: 0.0633 - val_loss: 0.1739\n",
            "Epoch 36/40\n",
            "46/46 [==============================] - 12s 260ms/step - det_loss: 0.1586 - cls_loss: 0.1033 - box_loss: 0.0011 - reg_l2_loss: 0.0633 - loss: 0.2219 - learning_rate: 1.9881e-04 - gradient_norm: 1.7437 - val_det_loss: 0.1100 - val_cls_loss: 0.0808 - val_box_loss: 5.8324e-04 - val_reg_l2_loss: 0.0633 - val_loss: 0.1733\n",
            "Epoch 37/40\n",
            "46/46 [==============================] - 12s 266ms/step - det_loss: 0.1473 - cls_loss: 0.1012 - box_loss: 9.2040e-04 - reg_l2_loss: 0.0633 - loss: 0.2106 - learning_rate: 1.0246e-04 - gradient_norm: 1.6631 - val_det_loss: 0.1104 - val_cls_loss: 0.0817 - val_box_loss: 5.7563e-04 - val_reg_l2_loss: 0.0633 - val_loss: 0.1737\n",
            "Epoch 38/40\n",
            "46/46 [==============================] - 12s 256ms/step - det_loss: 0.1482 - cls_loss: 0.1033 - box_loss: 8.9728e-04 - reg_l2_loss: 0.0633 - loss: 0.2115 - learning_rate: 3.7871e-05 - gradient_norm: 1.7512 - val_det_loss: 0.1106 - val_cls_loss: 0.0819 - val_box_loss: 5.7341e-04 - val_reg_l2_loss: 0.0633 - val_loss: 0.1739\n",
            "Epoch 39/40\n",
            "46/46 [==============================] - 12s 253ms/step - det_loss: 0.1489 - cls_loss: 0.0983 - box_loss: 0.0010 - reg_l2_loss: 0.0633 - loss: 0.2122 - learning_rate: 5.4645e-06 - gradient_norm: 1.5792 - val_det_loss: 0.1107 - val_cls_loss: 0.0819 - val_box_loss: 5.7539e-04 - val_reg_l2_loss: 0.0633 - val_loss: 0.1740\n",
            "Epoch 40/40\n",
            "46/46 [==============================] - 14s 298ms/step - det_loss: 0.1451 - cls_loss: 0.1010 - box_loss: 8.8356e-04 - reg_l2_loss: 0.0633 - loss: 0.2084 - learning_rate: 5.4496e-06 - gradient_norm: 1.7719 - val_det_loss: 0.1103 - val_cls_loss: 0.0818 - val_box_loss: 5.6912e-04 - val_reg_l2_loss: 0.0633 - val_loss: 0.1736\n"
          ]
        }
      ],
      "source": [
        "model = object_detector.create(train_data=train_data, \n",
        "                               model_spec=spec, \n",
        "                               validation_data=validation_data, \n",
        "                               epochs=40, \n",
        "                               batch_size=8, \n",
        "                               train_whole_model=True)"
      ]
    },
    {
      "cell_type": "markdown",
      "metadata": {
        "id": "3n5-o3vvGfnJ"
      },
      "source": [
        "## Evaluate the model"
      ]
    },
    {
      "cell_type": "markdown",
      "metadata": {
        "id": "-BzCHLWJ6h7q"
      },
      "source": [
        "Now we'll use the test dataset to evaluate how well the model performs with data it has never seen before.\n",
        "\n",
        "The [`evaluate()`](https://www.tensorflow.org/lite/api_docs/python/tflite_model_maker/object_detector/ObjectDetector#evaluate) method provides output in the style of [COCO evaluation metrics](https://cocodataset.org/#detection-eval):"
      ]
    },
    {
      "cell_type": "code",
      "execution_count": 9,
      "metadata": {
        "id": "8xmnl6Yy7ARn",
        "colab": {
          "base_uri": "https://localhost:8080/"
        },
        "outputId": "bab35cf6-15d7-4bcb-cc31-363595a3b6f3"
      },
      "outputs": [
        {
          "output_type": "stream",
          "name": "stdout",
          "text": [
            "\r1/1 [==============================] - 8s 8s/step\n",
            "\n"
          ]
        },
        {
          "output_type": "execute_result",
          "data": {
            "text/plain": [
              "{'AP': 0.86008596,\n",
              " 'AP50': 1.0,\n",
              " 'AP75': 1.0,\n",
              " 'AP_/:Dampflok': 0.82570326,\n",
              " 'AP_/:Diesellok': 0.8944686,\n",
              " 'APl': -1.0,\n",
              " 'APm': 0.86020887,\n",
              " 'APs': -1.0,\n",
              " 'ARl': -1.0,\n",
              " 'ARm': 0.9,\n",
              " 'ARmax1': 0.8730769,\n",
              " 'ARmax10': 0.9,\n",
              " 'ARmax100': 0.9,\n",
              " 'ARs': -1.0}"
            ]
          },
          "metadata": {},
          "execution_count": 9
        }
      ],
      "source": [
        "model.evaluate(test_data)"
      ]
    },
    {
      "cell_type": "markdown",
      "metadata": {
        "id": "PEon9xd2BDS_"
      },
      "source": [
        "Because the default batch size for [EfficientDetLite models](https://www.tensorflow.org/lite/api_docs/python/tflite_model_maker/object_detector/EfficientDetSpec) is 64, this needs only 1 step to go through all  images in the test set. You can also specify the `batch_size` argument when you call [`evaluate()`](https://www.tensorflow.org/lite/api_docs/python/tflite_model_maker/object_detector/ObjectDetector#evaluate)."
      ]
    },
    {
      "cell_type": "markdown",
      "metadata": {
        "id": "_yB_XMpqGlLs"
      },
      "source": [
        "## Export to TensorFlow Lite"
      ]
    },
    {
      "cell_type": "markdown",
      "metadata": {
        "id": "CgCDMe0e6jlT"
      },
      "source": [
        "Next, we'll export the model to the TensorFlow Lite format. By default, the [`export()`](https://www.tensorflow.org/lite/api_docs/python/tflite_model_maker/object_detector/ObjectDetector#export) method performs [full integer post-training quantization](https://www.tensorflow.org/lite/performance/post_training_quantization#full_integer_quantization), which is exactly what we need for compatibility with the Edge TPU. (Model Maker uses the same dataset we gave to our model spec as a representative dataset, which is required for full-int quantization.)\n",
        "\n",
        "We just need to specify the export directory and format. By default, it exports to TF Lite, but we also want a labels file, so we declare both:"
      ]
    },
    {
      "cell_type": "code",
      "execution_count": 10,
      "metadata": {
        "id": "2Cu9cxX5Qu-e"
      },
      "outputs": [],
      "source": [
        "TFLITE_FILENAME = 'smrc_model.tflite'\n",
        "LABELS_FILENAME = 'railwayLabels.txt'"
      ]
    },
    {
      "cell_type": "code",
      "execution_count": 11,
      "metadata": {
        "id": "rKd6qk7TbxYO"
      },
      "outputs": [],
      "source": [
        "model.export(export_dir='.', tflite_filename=TFLITE_FILENAME, label_filename=LABELS_FILENAME,\n",
        "             export_format=[ExportFormat.TFLITE, ExportFormat.LABEL])"
      ]
    },
    {
      "cell_type": "markdown",
      "metadata": {
        "id": "b94hZ-exOCRB"
      },
      "source": [
        "### Evaluate the TF Lite model"
      ]
    },
    {
      "cell_type": "markdown",
      "metadata": {
        "id": "ZQpahAIBqBPp"
      },
      "source": [
        "Exporting the model to TensorFlow Lite can affect the model accuracy, due to the reduced numerical precision from quantization and because the original TensorFlow model uses per-class [non-max supression (NMS)](https://www.coursera.org/lecture/convolutional-neural-networks/non-max-suppression-dvrjH) for post-processing, while the TF Lite model uses global NMS, which is faster but less accurate.\n",
        "\n",
        "Therefore you should always evaluate the exported TF Lite model and be sure it still meets your requirements:"
      ]
    },
    {
      "cell_type": "code",
      "execution_count": 12,
      "metadata": {
        "id": "RS3Ell_lqH4e",
        "colab": {
          "base_uri": "https://localhost:8080/"
        },
        "outputId": "3dd4e2b9-f4ef-4c60-8b14-7e70b716e908"
      },
      "outputs": [
        {
          "output_type": "stream",
          "name": "stdout",
          "text": [
            "52/52 [==============================] - 122s 2s/step\n",
            "\n"
          ]
        },
        {
          "output_type": "execute_result",
          "data": {
            "text/plain": [
              "{'AP': 0.8533238,\n",
              " 'AP50': 1.0,\n",
              " 'AP75': 1.0,\n",
              " 'AP_/:Dampflok': 0.815861,\n",
              " 'AP_/:Diesellok': 0.8907867,\n",
              " 'APl': -1.0,\n",
              " 'APm': 0.8533238,\n",
              " 'APs': -1.0,\n",
              " 'ARl': -1.0,\n",
              " 'ARm': 0.8769231,\n",
              " 'ARmax1': 0.8769231,\n",
              " 'ARmax10': 0.8769231,\n",
              " 'ARmax100': 0.8769231,\n",
              " 'ARs': -1.0}"
            ]
          },
          "metadata": {},
          "execution_count": 12
        }
      ],
      "source": [
        "model.evaluate_tflite(TFLITE_FILENAME, test_data)"
      ]
    },
    {
      "cell_type": "markdown",
      "metadata": {
        "id": "oxgWQyYOqZha"
      },
      "source": [
        "## Compile for the Edge TPU\n"
      ]
    },
    {
      "cell_type": "markdown",
      "metadata": {
        "id": "A0QLiwCj9Pw6"
      },
      "source": [
        "First we need to download the Edge TPU Compiler:"
      ]
    },
    {
      "cell_type": "code",
      "execution_count": 13,
      "metadata": {
        "id": "Oy3QIn_YqaRP",
        "colab": {
          "base_uri": "https://localhost:8080/"
        },
        "outputId": "9a3b45e6-a15c-4509-cfac-bf2311da70ab"
      },
      "outputs": [
        {
          "output_type": "stream",
          "name": "stdout",
          "text": [
            "  % Total    % Received % Xferd  Average Speed   Time    Time     Time  Current\n",
            "                                 Dload  Upload   Total   Spent    Left  Speed\n",
            "\r  0     0    0     0    0     0      0      0 --:--:-- --:--:-- --:--:--     0\r100  2537  100  2537    0     0  87482      0 --:--:-- --:--:-- --:--:-- 87482\n",
            "OK\n",
            "deb https://packages.cloud.google.com/apt coral-edgetpu-stable main\n",
            "Hit:1 http://archive.ubuntu.com/ubuntu bionic InRelease\n",
            "Get:2 http://archive.ubuntu.com/ubuntu bionic-updates InRelease [88.7 kB]\n",
            "Hit:3 https://developer.download.nvidia.com/compute/cuda/repos/ubuntu1804/x86_64  InRelease\n",
            "Get:4 https://cloud.r-project.org/bin/linux/ubuntu bionic-cran40/ InRelease [3,626 B]\n",
            "Get:5 https://packages.cloud.google.com/apt coral-edgetpu-stable InRelease [6,722 B]\n",
            "Get:6 http://security.ubuntu.com/ubuntu bionic-security InRelease [88.7 kB]\n",
            "Hit:7 http://ppa.launchpad.net/c2d4u.team/c2d4u4.0+/ubuntu bionic InRelease\n",
            "Get:8 http://archive.ubuntu.com/ubuntu bionic-backports InRelease [74.6 kB]\n",
            "Ign:9 https://developer.download.nvidia.com/compute/machine-learning/repos/ubuntu1804/x86_64  InRelease\n",
            "Hit:10 https://developer.download.nvidia.com/compute/machine-learning/repos/ubuntu1804/x86_64  Release\n",
            "Hit:11 http://ppa.launchpad.net/cran/libgit2/ubuntu bionic InRelease\n",
            "Get:12 https://packages.cloud.google.com/apt coral-edgetpu-stable/main amd64 Packages [2,317 B]\n",
            "Get:13 http://archive.ubuntu.com/ubuntu bionic-updates/universe amd64 Packages [2,297 kB]\n",
            "Hit:14 http://ppa.launchpad.net/deadsnakes/ppa/ubuntu bionic InRelease\n",
            "Hit:16 http://ppa.launchpad.net/graphics-drivers/ppa/ubuntu bionic InRelease\n",
            "Get:17 http://security.ubuntu.com/ubuntu bionic-security/restricted amd64 Packages [1,031 kB]\n",
            "Get:18 http://archive.ubuntu.com/ubuntu bionic-updates/restricted amd64 Packages [1,075 kB]\n",
            "Get:19 http://security.ubuntu.com/ubuntu bionic-security/main amd64 Packages [2,871 kB]\n",
            "Get:20 http://archive.ubuntu.com/ubuntu bionic-updates/main amd64 Packages [3,302 kB]\n",
            "Fetched 10.8 MB in 2s (4,762 kB/s)\n",
            "Reading package lists... Done\n",
            "Reading package lists... Done\n",
            "Building dependency tree       \n",
            "Reading state information... Done\n",
            "The following package was automatically installed and is no longer required:\n",
            "  libnvidia-common-460\n",
            "Use 'sudo apt autoremove' to remove it.\n",
            "The following NEW packages will be installed:\n",
            "  edgetpu-compiler\n",
            "0 upgraded, 1 newly installed, 0 to remove and 49 not upgraded.\n",
            "Need to get 7,913 kB of archives.\n",
            "After this operation, 31.2 MB of additional disk space will be used.\n",
            "Get:1 https://packages.cloud.google.com/apt coral-edgetpu-stable/main amd64 edgetpu-compiler amd64 16.0 [7,913 kB]\n",
            "Fetched 7,913 kB in 1s (12.1 MB/s)\n",
            "debconf: unable to initialize frontend: Dialog\n",
            "debconf: (No usable dialog-like program is installed, so the dialog based frontend cannot be used. at /usr/share/perl5/Debconf/FrontEnd/Dialog.pm line 76, <> line 1.)\n",
            "debconf: falling back to frontend: Readline\n",
            "debconf: unable to initialize frontend: Readline\n",
            "debconf: (This frontend requires a controlling tty.)\n",
            "debconf: falling back to frontend: Teletype\n",
            "dpkg-preconfigure: unable to re-open stdin: \n",
            "Selecting previously unselected package edgetpu-compiler.\n",
            "(Reading database ... 155639 files and directories currently installed.)\n",
            "Preparing to unpack .../edgetpu-compiler_16.0_amd64.deb ...\n",
            "Unpacking edgetpu-compiler (16.0) ...\n",
            "Setting up edgetpu-compiler (16.0) ...\n",
            "Processing triggers for libc-bin (2.27-3ubuntu1.3) ...\n",
            "/sbin/ldconfig.real: /usr/local/lib/python3.7/dist-packages/ideep4py/lib/libmkldnn.so.0 is not a symbolic link\n",
            "\n"
          ]
        }
      ],
      "source": [
        "! curl https://packages.cloud.google.com/apt/doc/apt-key.gpg | sudo apt-key add -\n",
        "\n",
        "! echo \"deb https://packages.cloud.google.com/apt coral-edgetpu-stable main\" | sudo tee /etc/apt/sources.list.d/coral-edgetpu.list\n",
        "\n",
        "! sudo apt-get update\n",
        "\n",
        "! sudo apt-get install edgetpu-compiler"
      ]
    },
    {
      "cell_type": "markdown",
      "metadata": {
        "id": "qRWewhqFqeL_"
      },
      "source": [
        "Before compiling the `.tflite` file for the Edge TPU, it's important to consider whether your model will fit into the Edge TPU memory. \n",
        "\n",
        "The Edge TPU has approximately 8 MB of SRAM for [caching model paramaters](https://coral.ai/docs/edgetpu/compiler/#parameter-data-caching), so any model close to or over 8 MB will not fit onto the Edge TPU memory. That means the inference times are longer, because some model parameters must be fetched from the host system memory.\n",
        "\n",
        "One way to elimiate the extra latency is to use [model pipelining](https://coral.ai/docs/edgetpu/pipeline/), which splits the model into segments that can run on separate Edge TPUs in series. This can significantly reduce the latency for big models.\n",
        "\n",
        "The following table provides recommendations for the number of Edge TPUs to use with each EfficientDet-Lite model.\n",
        "\n",
        "| Model architecture | Minimum TPUs | Recommended TPUs\n",
        "|--------------------|-------|-------|\n",
        "| EfficientDet-Lite0 | 1     | 1     |\n",
        "| EfficientDet-Lite1 | 1     | 1     |\n",
        "| EfficientDet-Lite2 | 1     | 2     |\n",
        "| EfficientDet-Lite3 | 2     | 2     |\n",
        "| EfficientDet-Lite4 | 2     | 3     |\n",
        "\n",
        "If you need extra Edge TPUs for your model, then update `NUMBER_OF_TPUS` here:"
      ]
    },
    {
      "cell_type": "code",
      "execution_count": 14,
      "metadata": {
        "id": "LZdonJGCqieU",
        "colab": {
          "base_uri": "https://localhost:8080/"
        },
        "outputId": "4eaf5d33-a4d5-4a52-ce3d-2e0d690b3886"
      },
      "outputs": [
        {
          "output_type": "stream",
          "name": "stdout",
          "text": [
            "Edge TPU Compiler version 16.0.384591198\n",
            "Searching for valid delegate with step 1\n",
            "Try to compile segment with 267 ops\n",
            "Started a compilation timeout timer of 180 seconds.\n",
            "\n",
            "Model compiled successfully in 2748 ms.\n",
            "\n",
            "Input model: smrc_model.tflite\n",
            "Input size: 4.24MiB\n",
            "Output model: smrc_model_edgetpu.tflite\n",
            "Output size: 5.57MiB\n",
            "On-chip memory used for caching model parameters: 4.21MiB\n",
            "On-chip memory remaining for caching model parameters: 3.29MiB\n",
            "Off-chip memory used for streaming uncached model parameters: 0.00B\n",
            "Number of Edge TPU subgraphs: 1\n",
            "Total number of operations: 267\n",
            "Operation log: smrc_model_edgetpu.log\n",
            "\n",
            "Model successfully compiled but not all operations are supported by the Edge TPU. A percentage of the model will instead run on the CPU, which is slower. If possible, consider updating your model to use only operations supported by the Edge TPU. For details, visit g.co/coral/model-reqs.\n",
            "Number of operations that will run on Edge TPU: 264\n",
            "Number of operations that will run on CPU: 3\n",
            "See the operation log file for individual operation details.\n",
            "Compilation child process completed within timeout period.\n",
            "Compilation succeeded! \n"
          ]
        }
      ],
      "source": [
        "NUMBER_OF_TPUS =  1\n",
        "\n",
        "!edgetpu_compiler --min_runtime_version 13 $TFLITE_FILENAME -d --num_segments=$NUMBER_OF_TPUS "
      ]
    },
    {
      "cell_type": "markdown",
      "metadata": {
        "id": "O2CjkduY02DF"
      },
      "source": [
        "**Beware when using multiple segments:** The Edge TPU Comiler divides the model such that all segments have roughly equal amounts of parameter data, but that does not mean all segments have the same latency. Especially when dividing an SSD model such as EfficientDet, this results in a latency-imbalance between segments, because SSD models have a large post-processing op that actually executes on the CPU, not on the Edge TPU. So although segmenting your model this way is better than running the whole model on just one Edge TPU, we recommend that you segment the EfficientDet-Lite model using our [profiling-based partitioner tool](https://github.com/google-coral/libcoral/tree/master/coral/tools/partitioner#profiling-based-partitioner-for-the-edge-tpu-compiler), which measures each segment's latency on the Edge TPU and then iteratively adjusts the segmentation sizes to provide balanced latency between all segments."
      ]
    },
    {
      "cell_type": "markdown",
      "metadata": {
        "id": "KyBBvyqx0XRn"
      },
      "source": [
        "## Download the files"
      ]
    },
    {
      "cell_type": "code",
      "execution_count": 15,
      "metadata": {
        "id": "M43URVgg0ZcB",
        "colab": {
          "base_uri": "https://localhost:8080/",
          "height": 17
        },
        "outputId": "f31f8f8e-7948-4542-89ac-4b354889bbd8"
      },
      "outputs": [
        {
          "output_type": "display_data",
          "data": {
            "text/plain": [
              "<IPython.core.display.Javascript object>"
            ],
            "application/javascript": [
              "\n",
              "    async function download(id, filename, size) {\n",
              "      if (!google.colab.kernel.accessAllowed) {\n",
              "        return;\n",
              "      }\n",
              "      const div = document.createElement('div');\n",
              "      const label = document.createElement('label');\n",
              "      label.textContent = `Downloading \"${filename}\": `;\n",
              "      div.appendChild(label);\n",
              "      const progress = document.createElement('progress');\n",
              "      progress.max = size;\n",
              "      div.appendChild(progress);\n",
              "      document.body.appendChild(div);\n",
              "\n",
              "      const buffers = [];\n",
              "      let downloaded = 0;\n",
              "\n",
              "      const channel = await google.colab.kernel.comms.open(id);\n",
              "      // Send a message to notify the kernel that we're ready.\n",
              "      channel.send({})\n",
              "\n",
              "      for await (const message of channel.messages) {\n",
              "        // Send a message to notify the kernel that we're ready.\n",
              "        channel.send({})\n",
              "        if (message.buffers) {\n",
              "          for (const buffer of message.buffers) {\n",
              "            buffers.push(buffer);\n",
              "            downloaded += buffer.byteLength;\n",
              "            progress.value = downloaded;\n",
              "          }\n",
              "        }\n",
              "      }\n",
              "      const blob = new Blob(buffers, {type: 'application/binary'});\n",
              "      const a = document.createElement('a');\n",
              "      a.href = window.URL.createObjectURL(blob);\n",
              "      a.download = filename;\n",
              "      div.appendChild(a);\n",
              "      a.click();\n",
              "      div.remove();\n",
              "    }\n",
              "  "
            ]
          },
          "metadata": {}
        },
        {
          "output_type": "display_data",
          "data": {
            "text/plain": [
              "<IPython.core.display.Javascript object>"
            ],
            "application/javascript": [
              "download(\"download_2526e93a-0d59-46f3-a40e-e5a1a5b38a09\", \"smrc_model.tflite\", 4444727)"
            ]
          },
          "metadata": {}
        },
        {
          "output_type": "display_data",
          "data": {
            "text/plain": [
              "<IPython.core.display.Javascript object>"
            ],
            "application/javascript": [
              "\n",
              "    async function download(id, filename, size) {\n",
              "      if (!google.colab.kernel.accessAllowed) {\n",
              "        return;\n",
              "      }\n",
              "      const div = document.createElement('div');\n",
              "      const label = document.createElement('label');\n",
              "      label.textContent = `Downloading \"${filename}\": `;\n",
              "      div.appendChild(label);\n",
              "      const progress = document.createElement('progress');\n",
              "      progress.max = size;\n",
              "      div.appendChild(progress);\n",
              "      document.body.appendChild(div);\n",
              "\n",
              "      const buffers = [];\n",
              "      let downloaded = 0;\n",
              "\n",
              "      const channel = await google.colab.kernel.comms.open(id);\n",
              "      // Send a message to notify the kernel that we're ready.\n",
              "      channel.send({})\n",
              "\n",
              "      for await (const message of channel.messages) {\n",
              "        // Send a message to notify the kernel that we're ready.\n",
              "        channel.send({})\n",
              "        if (message.buffers) {\n",
              "          for (const buffer of message.buffers) {\n",
              "            buffers.push(buffer);\n",
              "            downloaded += buffer.byteLength;\n",
              "            progress.value = downloaded;\n",
              "          }\n",
              "        }\n",
              "      }\n",
              "      const blob = new Blob(buffers, {type: 'application/binary'});\n",
              "      const a = document.createElement('a');\n",
              "      a.href = window.URL.createObjectURL(blob);\n",
              "      a.download = filename;\n",
              "      div.appendChild(a);\n",
              "      a.click();\n",
              "      div.remove();\n",
              "    }\n",
              "  "
            ]
          },
          "metadata": {}
        },
        {
          "output_type": "display_data",
          "data": {
            "text/plain": [
              "<IPython.core.display.Javascript object>"
            ],
            "application/javascript": [
              "download(\"download_ac2d6317-8db4-4d72-9f38-8ca6df01276c\", \"smrc_model_edgetpu.tflite\", 5842624)"
            ]
          },
          "metadata": {}
        },
        {
          "output_type": "display_data",
          "data": {
            "text/plain": [
              "<IPython.core.display.Javascript object>"
            ],
            "application/javascript": [
              "\n",
              "    async function download(id, filename, size) {\n",
              "      if (!google.colab.kernel.accessAllowed) {\n",
              "        return;\n",
              "      }\n",
              "      const div = document.createElement('div');\n",
              "      const label = document.createElement('label');\n",
              "      label.textContent = `Downloading \"${filename}\": `;\n",
              "      div.appendChild(label);\n",
              "      const progress = document.createElement('progress');\n",
              "      progress.max = size;\n",
              "      div.appendChild(progress);\n",
              "      document.body.appendChild(div);\n",
              "\n",
              "      const buffers = [];\n",
              "      let downloaded = 0;\n",
              "\n",
              "      const channel = await google.colab.kernel.comms.open(id);\n",
              "      // Send a message to notify the kernel that we're ready.\n",
              "      channel.send({})\n",
              "\n",
              "      for await (const message of channel.messages) {\n",
              "        // Send a message to notify the kernel that we're ready.\n",
              "        channel.send({})\n",
              "        if (message.buffers) {\n",
              "          for (const buffer of message.buffers) {\n",
              "            buffers.push(buffer);\n",
              "            downloaded += buffer.byteLength;\n",
              "            progress.value = downloaded;\n",
              "          }\n",
              "        }\n",
              "      }\n",
              "      const blob = new Blob(buffers, {type: 'application/binary'});\n",
              "      const a = document.createElement('a');\n",
              "      a.href = window.URL.createObjectURL(blob);\n",
              "      a.download = filename;\n",
              "      div.appendChild(a);\n",
              "      a.click();\n",
              "      div.remove();\n",
              "    }\n",
              "  "
            ]
          },
          "metadata": {}
        },
        {
          "output_type": "display_data",
          "data": {
            "text/plain": [
              "<IPython.core.display.Javascript object>"
            ],
            "application/javascript": [
              "download(\"download_a6e8ca7c-712e-4d25-93ab-47aafc257392\", \"railwayLabels.txt\", 21)"
            ]
          },
          "metadata": {}
        }
      ],
      "source": [
        "from google.colab import files\n",
        "\n",
        "files.download(TFLITE_FILENAME)\n",
        "files.download(TFLITE_FILENAME.replace('.tflite', '_edgetpu.tflite'))\n",
        "files.download(LABELS_FILENAME)"
      ]
    },
    {
      "cell_type": "markdown",
      "metadata": {
        "id": "HS4u77W5gnzQ"
      },
      "source": [
        "## More resources\n",
        "\n",
        "* For more information about the Model Maker library used in this tutorial, see the [TensorFlow Lite Model Maker guide](https://www.tensorflow.org/lite/guide/model_maker) and [API reference](https://www.tensorflow.org/lite/api_docs/python/tflite_model_maker).\n",
        "\n",
        "* For other transfer learning tutorials that are compatible with the Edge TPU, see the [Colab tutorials for Coral](https://github.com/google-coral/tutorials#colab-tutorials-for-coral).\n",
        "\n",
        "* You can also find more examples that show how to run inference on the Edge TPU at [coral.ai/examples](https://coral.ai/examples/#code-examples/)."
      ]
    }
  ],
  "metadata": {
    "accelerator": "GPU",
    "colab": {
      "collapsed_sections": [],
      "name": "trainSMRC",
      "provenance": []
    },
    "kernelspec": {
      "display_name": "Python 3",
      "name": "python3"
    }
  },
  "nbformat": 4,
  "nbformat_minor": 0
}